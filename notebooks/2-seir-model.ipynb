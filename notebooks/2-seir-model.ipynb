{
 "cells": [
  {
   "cell_type": "markdown",
   "metadata": {},
   "source": [
    "# SEIR Model"
   ]
  },
  {
   "cell_type": "code",
   "execution_count": 3,
   "metadata": {},
   "outputs": [
    {
     "name": "stdout",
     "output_type": "stream",
     "text": [
      "The lab_black extension is already loaded. To reload it, use:\n",
      "  %reload_ext lab_black\n"
     ]
    }
   ],
   "source": [
    "%load_ext lab_black\n",
    "\n",
    "# Data manipulation\n",
    "import numpy as np\n",
    "import pandas as pd\n",
    "\n",
    "pd.options.display.max_columns = 100\n",
    "pd.options.display.max_colwidth = 500\n",
    "\n",
    "# Data viz\n",
    "import plotly\n",
    "import matplotlib.pyplot as plt\n",
    "import plotly.express as px\n",
    "import plotly.graph_objects as go\n",
    "import seaborn as sns\n",
    "\n",
    "sns.set(style=\"darkgrid\", rc={\"figure.figsize\": (11.7, 8.27)})\n",
    "\n",
    "# Modeling\n",
    "from scipy.integrate import solve_ivp\n",
    "from scipy.optimize import minimize, least_squares\n",
    "\n",
    "# Other\n",
    "import copy\n",
    "from datetime import date, timedelta\n",
    "import os\n",
    "import random\n",
    "import sys\n",
    "\n",
    "# Custom module\n",
    "module_path = os.path.abspath(os.path.join(\"../\"))\n",
    "if module_path not in sys.path:\n",
    "    sys.path.append(module_path)\n",
    "\n",
    "from src.seir_model import SEIRModel\n",
    "from src.plotting import plot_predictions\n",
    "from src.utils import get_covid_data, get_all_covid_data\n",
    "\n",
    "# Reload imported code\n",
    "%reload_ext autoreload\n",
    "%autoreload 2\n",
    "\n",
    "# Print all output\n",
    "from IPython.core.interactiveshell import InteractiveShell\n",
    "\n",
    "InteractiveShell.ast_node_interactivity = \"all\"\n",
    "\n",
    "# Set seeds for reproducibility\n",
    "rand_seed = 2\n",
    "np.random.seed(rand_seed)\n",
    "random.seed(rand_seed)"
   ]
  },
  {
   "cell_type": "markdown",
   "metadata": {},
   "source": [
    "## Load data"
   ]
  },
  {
   "cell_type": "code",
   "execution_count": 64,
   "metadata": {
    "execution": {
     "iopub.execute_input": "2020-12-15T19:30:31.847476Z",
     "iopub.status.busy": "2020-12-15T19:30:31.847476Z",
     "iopub.status.idle": "2020-12-15T19:30:32.731476Z",
     "shell.execute_reply": "2020-12-15T19:30:32.730478Z",
     "shell.execute_reply.started": "2020-12-15T19:30:31.847476Z"
    }
   },
   "outputs": [
    {
     "data": {
      "text/html": [
       "<div>\n",
       "<style scoped>\n",
       "    .dataframe tbody tr th:only-of-type {\n",
       "        vertical-align: middle;\n",
       "    }\n",
       "\n",
       "    .dataframe tbody tr th {\n",
       "        vertical-align: top;\n",
       "    }\n",
       "\n",
       "    .dataframe thead th {\n",
       "        text-align: right;\n",
       "    }\n",
       "</style>\n",
       "<table border=\"1\" class=\"dataframe\">\n",
       "  <thead>\n",
       "    <tr style=\"text-align: right;\">\n",
       "      <th></th>\n",
       "      <th>province</th>\n",
       "      <th>date</th>\n",
       "      <th>cumulative_cases</th>\n",
       "      <th>cumulative_recovered</th>\n",
       "      <th>cumulative_deaths</th>\n",
       "      <th>active_cases</th>\n",
       "      <th>active_cases_change</th>\n",
       "      <th>deaths</th>\n",
       "      <th>recovered</th>\n",
       "      <th>cases</th>\n",
       "      <th>population</th>\n",
       "      <th>removed</th>\n",
       "      <th>cumulative_removed</th>\n",
       "      <th>susceptible</th>\n",
       "      <th>percent_susceptible</th>\n",
       "    </tr>\n",
       "  </thead>\n",
       "  <tbody>\n",
       "    <tr>\n",
       "      <th>2643</th>\n",
       "      <td>Ontario</td>\n",
       "      <td>2020-03-08</td>\n",
       "      <td>32</td>\n",
       "      <td>4</td>\n",
       "      <td>0</td>\n",
       "      <td>28</td>\n",
       "      <td>4</td>\n",
       "      <td>0</td>\n",
       "      <td>0</td>\n",
       "      <td>4</td>\n",
       "      <td>14734014</td>\n",
       "      <td>0</td>\n",
       "      <td>4</td>\n",
       "      <td>14733982</td>\n",
       "      <td>0.999998</td>\n",
       "    </tr>\n",
       "    <tr>\n",
       "      <th>2644</th>\n",
       "      <td>Ontario</td>\n",
       "      <td>2020-03-09</td>\n",
       "      <td>35</td>\n",
       "      <td>5</td>\n",
       "      <td>0</td>\n",
       "      <td>30</td>\n",
       "      <td>2</td>\n",
       "      <td>0</td>\n",
       "      <td>1</td>\n",
       "      <td>3</td>\n",
       "      <td>14734014</td>\n",
       "      <td>1</td>\n",
       "      <td>5</td>\n",
       "      <td>14733979</td>\n",
       "      <td>0.999998</td>\n",
       "    </tr>\n",
       "    <tr>\n",
       "      <th>2645</th>\n",
       "      <td>Ontario</td>\n",
       "      <td>2020-03-10</td>\n",
       "      <td>37</td>\n",
       "      <td>5</td>\n",
       "      <td>0</td>\n",
       "      <td>32</td>\n",
       "      <td>2</td>\n",
       "      <td>0</td>\n",
       "      <td>0</td>\n",
       "      <td>2</td>\n",
       "      <td>14734014</td>\n",
       "      <td>0</td>\n",
       "      <td>5</td>\n",
       "      <td>14733977</td>\n",
       "      <td>0.999997</td>\n",
       "    </tr>\n",
       "    <tr>\n",
       "      <th>2646</th>\n",
       "      <td>Ontario</td>\n",
       "      <td>2020-03-11</td>\n",
       "      <td>42</td>\n",
       "      <td>5</td>\n",
       "      <td>1</td>\n",
       "      <td>36</td>\n",
       "      <td>4</td>\n",
       "      <td>1</td>\n",
       "      <td>0</td>\n",
       "      <td>5</td>\n",
       "      <td>14734014</td>\n",
       "      <td>1</td>\n",
       "      <td>6</td>\n",
       "      <td>14733972</td>\n",
       "      <td>0.999997</td>\n",
       "    </tr>\n",
       "    <tr>\n",
       "      <th>2647</th>\n",
       "      <td>Ontario</td>\n",
       "      <td>2020-03-12</td>\n",
       "      <td>59</td>\n",
       "      <td>5</td>\n",
       "      <td>1</td>\n",
       "      <td>53</td>\n",
       "      <td>17</td>\n",
       "      <td>0</td>\n",
       "      <td>0</td>\n",
       "      <td>17</td>\n",
       "      <td>14734014</td>\n",
       "      <td>0</td>\n",
       "      <td>6</td>\n",
       "      <td>14733955</td>\n",
       "      <td>0.999996</td>\n",
       "    </tr>\n",
       "    <tr>\n",
       "      <th>2648</th>\n",
       "      <td>Ontario</td>\n",
       "      <td>2020-03-13</td>\n",
       "      <td>79</td>\n",
       "      <td>5</td>\n",
       "      <td>1</td>\n",
       "      <td>73</td>\n",
       "      <td>20</td>\n",
       "      <td>0</td>\n",
       "      <td>0</td>\n",
       "      <td>20</td>\n",
       "      <td>14734014</td>\n",
       "      <td>0</td>\n",
       "      <td>6</td>\n",
       "      <td>14733935</td>\n",
       "      <td>0.999995</td>\n",
       "    </tr>\n",
       "    <tr>\n",
       "      <th>2649</th>\n",
       "      <td>Ontario</td>\n",
       "      <td>2020-03-14</td>\n",
       "      <td>103</td>\n",
       "      <td>5</td>\n",
       "      <td>1</td>\n",
       "      <td>97</td>\n",
       "      <td>24</td>\n",
       "      <td>0</td>\n",
       "      <td>0</td>\n",
       "      <td>24</td>\n",
       "      <td>14734014</td>\n",
       "      <td>0</td>\n",
       "      <td>6</td>\n",
       "      <td>14733911</td>\n",
       "      <td>0.999993</td>\n",
       "    </tr>\n",
       "    <tr>\n",
       "      <th>2650</th>\n",
       "      <td>Ontario</td>\n",
       "      <td>2020-03-15</td>\n",
       "      <td>145</td>\n",
       "      <td>5</td>\n",
       "      <td>1</td>\n",
       "      <td>139</td>\n",
       "      <td>42</td>\n",
       "      <td>0</td>\n",
       "      <td>0</td>\n",
       "      <td>42</td>\n",
       "      <td>14734014</td>\n",
       "      <td>0</td>\n",
       "      <td>6</td>\n",
       "      <td>14733869</td>\n",
       "      <td>0.999990</td>\n",
       "    </tr>\n",
       "    <tr>\n",
       "      <th>2651</th>\n",
       "      <td>Ontario</td>\n",
       "      <td>2020-03-16</td>\n",
       "      <td>177</td>\n",
       "      <td>5</td>\n",
       "      <td>1</td>\n",
       "      <td>171</td>\n",
       "      <td>32</td>\n",
       "      <td>0</td>\n",
       "      <td>0</td>\n",
       "      <td>32</td>\n",
       "      <td>14734014</td>\n",
       "      <td>0</td>\n",
       "      <td>6</td>\n",
       "      <td>14733837</td>\n",
       "      <td>0.999988</td>\n",
       "    </tr>\n",
       "    <tr>\n",
       "      <th>2652</th>\n",
       "      <td>Ontario</td>\n",
       "      <td>2020-03-17</td>\n",
       "      <td>189</td>\n",
       "      <td>5</td>\n",
       "      <td>1</td>\n",
       "      <td>183</td>\n",
       "      <td>12</td>\n",
       "      <td>0</td>\n",
       "      <td>0</td>\n",
       "      <td>12</td>\n",
       "      <td>14734014</td>\n",
       "      <td>0</td>\n",
       "      <td>6</td>\n",
       "      <td>14733825</td>\n",
       "      <td>0.999987</td>\n",
       "    </tr>\n",
       "  </tbody>\n",
       "</table>\n",
       "</div>"
      ],
      "text/plain": [
       "     province        date  cumulative_cases  cumulative_recovered  \\\n",
       "2643  Ontario  2020-03-08                32                     4   \n",
       "2644  Ontario  2020-03-09                35                     5   \n",
       "2645  Ontario  2020-03-10                37                     5   \n",
       "2646  Ontario  2020-03-11                42                     5   \n",
       "2647  Ontario  2020-03-12                59                     5   \n",
       "2648  Ontario  2020-03-13                79                     5   \n",
       "2649  Ontario  2020-03-14               103                     5   \n",
       "2650  Ontario  2020-03-15               145                     5   \n",
       "2651  Ontario  2020-03-16               177                     5   \n",
       "2652  Ontario  2020-03-17               189                     5   \n",
       "\n",
       "      cumulative_deaths  active_cases  active_cases_change  deaths  recovered  \\\n",
       "2643                  0            28                    4       0          0   \n",
       "2644                  0            30                    2       0          1   \n",
       "2645                  0            32                    2       0          0   \n",
       "2646                  1            36                    4       1          0   \n",
       "2647                  1            53                   17       0          0   \n",
       "2648                  1            73                   20       0          0   \n",
       "2649                  1            97                   24       0          0   \n",
       "2650                  1           139                   42       0          0   \n",
       "2651                  1           171                   32       0          0   \n",
       "2652                  1           183                   12       0          0   \n",
       "\n",
       "      cases  population  removed  cumulative_removed  susceptible  \\\n",
       "2643      4    14734014        0                   4     14733982   \n",
       "2644      3    14734014        1                   5     14733979   \n",
       "2645      2    14734014        0                   5     14733977   \n",
       "2646      5    14734014        1                   6     14733972   \n",
       "2647     17    14734014        0                   6     14733955   \n",
       "2648     20    14734014        0                   6     14733935   \n",
       "2649     24    14734014        0                   6     14733911   \n",
       "2650     42    14734014        0                   6     14733869   \n",
       "2651     32    14734014        0                   6     14733837   \n",
       "2652     12    14734014        0                   6     14733825   \n",
       "\n",
       "      percent_susceptible  \n",
       "2643             0.999998  \n",
       "2644             0.999998  \n",
       "2645             0.999997  \n",
       "2646             0.999997  \n",
       "2647             0.999996  \n",
       "2648             0.999995  \n",
       "2649             0.999993  \n",
       "2650             0.999990  \n",
       "2651             0.999988  \n",
       "2652             0.999987  "
      ]
     },
     "execution_count": 64,
     "metadata": {},
     "output_type": "execute_result"
    }
   ],
   "source": [
    "# Read in data\n",
    "start_date = date(day=8, month=3, year=2020)\n",
    "covid_data = get_all_covid_data(level=\"prov\").query(\"date >= @start_date\")\n",
    "end_date = covid_data[\"date\"].max()\n",
    "\n",
    "# Filter only provinces of interest\n",
    "provinces = [\"Alberta\", \"BC\", \"Manitoba\", \"Ontario\", \"Quebec\", \"Saskatchewan\"]\n",
    "covid_data = covid_data.query(\"province in @provinces\")\n",
    "\n",
    "# Filter for Ontario\n",
    "covid_ontario = covid_data.query('province == \"Ontario\"')\n",
    "\n",
    "covid_ontario.head(10)"
   ]
  },
  {
   "cell_type": "markdown",
   "metadata": {},
   "source": [
    "## SEIR model parameter estimation"
   ]
  },
  {
   "cell_type": "code",
   "execution_count": 65,
   "metadata": {
    "execution": {
     "iopub.execute_input": "2020-12-15T19:30:33.094993Z",
     "iopub.status.busy": "2020-12-15T19:30:33.094993Z",
     "iopub.status.idle": "2020-12-15T19:30:41.825582Z",
     "shell.execute_reply": "2020-12-15T19:30:41.824581Z",
     "shell.execute_reply.started": "2020-12-15T19:30:33.094993Z"
    }
   },
   "outputs": [
    {
     "name": "stdout",
     "output_type": "stream",
     "text": [
      "Wall time: 8.29 s\n"
     ]
    },
    {
     "data": {
      "text/html": [
       "<div>\n",
       "<style scoped>\n",
       "    .dataframe tbody tr th:only-of-type {\n",
       "        vertical-align: middle;\n",
       "    }\n",
       "\n",
       "    .dataframe tbody tr th {\n",
       "        vertical-align: top;\n",
       "    }\n",
       "\n",
       "    .dataframe thead th {\n",
       "        text-align: right;\n",
       "    }\n",
       "</style>\n",
       "<table border=\"1\" class=\"dataframe\">\n",
       "  <thead>\n",
       "    <tr style=\"text-align: right;\">\n",
       "      <th></th>\n",
       "      <th>date</th>\n",
       "      <th>susceptible_pred</th>\n",
       "      <th>active_exposed_pred</th>\n",
       "      <th>active_cases_pred</th>\n",
       "      <th>cumulative_deaths_pred</th>\n",
       "      <th>province</th>\n",
       "      <th>is_forecast</th>\n",
       "      <th>cumulative_cases</th>\n",
       "      <th>cumulative_recovered</th>\n",
       "      <th>cumulative_deaths</th>\n",
       "      <th>active_cases</th>\n",
       "      <th>active_cases_change</th>\n",
       "      <th>deaths</th>\n",
       "      <th>recovered</th>\n",
       "      <th>cases</th>\n",
       "      <th>population</th>\n",
       "      <th>removed</th>\n",
       "      <th>cumulative_removed</th>\n",
       "      <th>susceptible</th>\n",
       "      <th>percent_susceptible</th>\n",
       "    </tr>\n",
       "  </thead>\n",
       "  <tbody>\n",
       "    <tr>\n",
       "      <th>298</th>\n",
       "      <td>2020-12-31</td>\n",
       "      <td>1.473044e+07</td>\n",
       "      <td>1.855550</td>\n",
       "      <td>2.728036</td>\n",
       "      <td>3566.468980</td>\n",
       "      <td>Ontario</td>\n",
       "      <td>True</td>\n",
       "      <td>NaN</td>\n",
       "      <td>NaN</td>\n",
       "      <td>NaN</td>\n",
       "      <td>NaN</td>\n",
       "      <td>NaN</td>\n",
       "      <td>NaN</td>\n",
       "      <td>NaN</td>\n",
       "      <td>NaN</td>\n",
       "      <td>NaN</td>\n",
       "      <td>NaN</td>\n",
       "      <td>NaN</td>\n",
       "      <td>NaN</td>\n",
       "      <td>NaN</td>\n",
       "    </tr>\n",
       "    <tr>\n",
       "      <th>299</th>\n",
       "      <td>2021-01-01</td>\n",
       "      <td>1.473044e+07</td>\n",
       "      <td>1.839257</td>\n",
       "      <td>2.705795</td>\n",
       "      <td>3569.120230</td>\n",
       "      <td>Ontario</td>\n",
       "      <td>True</td>\n",
       "      <td>NaN</td>\n",
       "      <td>NaN</td>\n",
       "      <td>NaN</td>\n",
       "      <td>NaN</td>\n",
       "      <td>NaN</td>\n",
       "      <td>NaN</td>\n",
       "      <td>NaN</td>\n",
       "      <td>NaN</td>\n",
       "      <td>NaN</td>\n",
       "      <td>NaN</td>\n",
       "      <td>NaN</td>\n",
       "      <td>NaN</td>\n",
       "      <td>NaN</td>\n",
       "    </tr>\n",
       "    <tr>\n",
       "      <th>300</th>\n",
       "      <td>2021-01-02</td>\n",
       "      <td>1.473044e+07</td>\n",
       "      <td>1.824753</td>\n",
       "      <td>2.682079</td>\n",
       "      <td>3571.749867</td>\n",
       "      <td>Ontario</td>\n",
       "      <td>True</td>\n",
       "      <td>NaN</td>\n",
       "      <td>NaN</td>\n",
       "      <td>NaN</td>\n",
       "      <td>NaN</td>\n",
       "      <td>NaN</td>\n",
       "      <td>NaN</td>\n",
       "      <td>NaN</td>\n",
       "      <td>NaN</td>\n",
       "      <td>NaN</td>\n",
       "      <td>NaN</td>\n",
       "      <td>NaN</td>\n",
       "      <td>NaN</td>\n",
       "      <td>NaN</td>\n",
       "    </tr>\n",
       "    <tr>\n",
       "      <th>301</th>\n",
       "      <td>2021-01-03</td>\n",
       "      <td>1.473044e+07</td>\n",
       "      <td>1.810435</td>\n",
       "      <td>2.658498</td>\n",
       "      <td>3574.357421</td>\n",
       "      <td>Ontario</td>\n",
       "      <td>True</td>\n",
       "      <td>NaN</td>\n",
       "      <td>NaN</td>\n",
       "      <td>NaN</td>\n",
       "      <td>NaN</td>\n",
       "      <td>NaN</td>\n",
       "      <td>NaN</td>\n",
       "      <td>NaN</td>\n",
       "      <td>NaN</td>\n",
       "      <td>NaN</td>\n",
       "      <td>NaN</td>\n",
       "      <td>NaN</td>\n",
       "      <td>NaN</td>\n",
       "      <td>NaN</td>\n",
       "    </tr>\n",
       "    <tr>\n",
       "      <th>302</th>\n",
       "      <td>2021-01-04</td>\n",
       "      <td>1.473043e+07</td>\n",
       "      <td>1.791552</td>\n",
       "      <td>2.639827</td>\n",
       "      <td>3576.941125</td>\n",
       "      <td>Ontario</td>\n",
       "      <td>True</td>\n",
       "      <td>NaN</td>\n",
       "      <td>NaN</td>\n",
       "      <td>NaN</td>\n",
       "      <td>NaN</td>\n",
       "      <td>NaN</td>\n",
       "      <td>NaN</td>\n",
       "      <td>NaN</td>\n",
       "      <td>NaN</td>\n",
       "      <td>NaN</td>\n",
       "      <td>NaN</td>\n",
       "      <td>NaN</td>\n",
       "      <td>NaN</td>\n",
       "      <td>NaN</td>\n",
       "    </tr>\n",
       "  </tbody>\n",
       "</table>\n",
       "</div>"
      ],
      "text/plain": [
       "           date  susceptible_pred  active_exposed_pred  active_cases_pred  \\\n",
       "298  2020-12-31      1.473044e+07             1.855550           2.728036   \n",
       "299  2021-01-01      1.473044e+07             1.839257           2.705795   \n",
       "300  2021-01-02      1.473044e+07             1.824753           2.682079   \n",
       "301  2021-01-03      1.473044e+07             1.810435           2.658498   \n",
       "302  2021-01-04      1.473043e+07             1.791552           2.639827   \n",
       "\n",
       "     cumulative_deaths_pred province  is_forecast  cumulative_cases  \\\n",
       "298             3566.468980  Ontario         True               NaN   \n",
       "299             3569.120230  Ontario         True               NaN   \n",
       "300             3571.749867  Ontario         True               NaN   \n",
       "301             3574.357421  Ontario         True               NaN   \n",
       "302             3576.941125  Ontario         True               NaN   \n",
       "\n",
       "     cumulative_recovered  cumulative_deaths  active_cases  \\\n",
       "298                   NaN                NaN           NaN   \n",
       "299                   NaN                NaN           NaN   \n",
       "300                   NaN                NaN           NaN   \n",
       "301                   NaN                NaN           NaN   \n",
       "302                   NaN                NaN           NaN   \n",
       "\n",
       "     active_cases_change  deaths  recovered  cases  population  removed  \\\n",
       "298                  NaN     NaN        NaN    NaN         NaN      NaN   \n",
       "299                  NaN     NaN        NaN    NaN         NaN      NaN   \n",
       "300                  NaN     NaN        NaN    NaN         NaN      NaN   \n",
       "301                  NaN     NaN        NaN    NaN         NaN      NaN   \n",
       "302                  NaN     NaN        NaN    NaN         NaN      NaN   \n",
       "\n",
       "     cumulative_removed  susceptible  percent_susceptible  \n",
       "298                 NaN          NaN                  NaN  \n",
       "299                 NaN          NaN                  NaN  \n",
       "300                 NaN          NaN                  NaN  \n",
       "301                 NaN          NaN                  NaN  \n",
       "302                 NaN          NaN                  NaN  "
      ]
     },
     "execution_count": 65,
     "metadata": {},
     "output_type": "execute_result"
    }
   ],
   "source": [
    "%%time\n",
    "\n",
    "model = SEIRModel(lam=0.5)\n",
    "model.fit(mortality_ontario)\n",
    "forecasts = model.forecast(h=21)\n",
    "\n",
    "forecasts.tail()"
   ]
  },
  {
   "cell_type": "code",
   "execution_count": 66,
   "metadata": {
    "execution": {
     "iopub.execute_input": "2020-12-15T19:30:42.081582Z",
     "iopub.status.busy": "2020-12-15T19:30:42.081582Z",
     "iopub.status.idle": "2020-12-15T19:30:42.335613Z",
     "shell.execute_reply": "2020-12-15T19:30:42.334608Z",
     "shell.execute_reply.started": "2020-12-15T19:30:42.081582Z"
    }
   },
   "outputs": [
    {
     "data": {
      "text/plain": [
       "array([1.42258299, 0.96212187, 0.97607514])"
      ]
     },
     "execution_count": 66,
     "metadata": {},
     "output_type": "execute_result"
    }
   ],
   "source": [
    "model.optimal_params"
   ]
  },
  {
   "cell_type": "code",
   "execution_count": 67,
   "metadata": {
    "execution": {
     "iopub.execute_input": "2020-12-15T19:30:42.336613Z",
     "iopub.status.busy": "2020-12-15T19:30:42.336613Z",
     "iopub.status.idle": "2020-12-15T19:30:42.695611Z",
     "shell.execute_reply": "2020-12-15T19:30:42.694608Z",
     "shell.execute_reply.started": "2020-12-15T19:30:42.336613Z"
    }
   },
   "outputs": [
    {
     "data": {
      "application/vnd.plotly.v1+json": {
       "config": {
        "plotlyServerURL": "https://plot.ly"
       },
       "data": [
        {
         "marker": {
          "color": "blue"
         },
         "mode": "lines",
         "name": "Actual",
         "type": "scatter",
         "x": [
          "2020-03-08",
          "2020-03-09",
          "2020-03-10",
          "2020-03-11",
          "2020-03-12",
          "2020-03-13",
          "2020-03-14",
          "2020-03-15",
          "2020-03-16",
          "2020-03-17",
          "2020-03-18",
          "2020-03-19",
          "2020-03-20",
          "2020-03-21",
          "2020-03-22",
          "2020-03-23",
          "2020-03-24",
          "2020-03-25",
          "2020-03-26",
          "2020-03-27",
          "2020-03-28",
          "2020-03-29",
          "2020-03-30",
          "2020-03-31",
          "2020-04-01",
          "2020-04-02",
          "2020-04-03",
          "2020-04-04",
          "2020-04-05",
          "2020-04-06",
          "2020-04-07",
          "2020-04-08",
          "2020-04-09",
          "2020-04-10",
          "2020-04-11",
          "2020-04-12",
          "2020-04-13",
          "2020-04-14",
          "2020-04-15",
          "2020-04-16",
          "2020-04-17",
          "2020-04-18",
          "2020-04-19",
          "2020-04-20",
          "2020-04-21",
          "2020-04-22",
          "2020-04-23",
          "2020-04-24",
          "2020-04-25",
          "2020-04-26",
          "2020-04-27",
          "2020-04-28",
          "2020-04-29",
          "2020-04-30",
          "2020-05-01",
          "2020-05-02",
          "2020-05-03",
          "2020-05-04",
          "2020-05-05",
          "2020-05-06",
          "2020-05-07",
          "2020-05-08",
          "2020-05-09",
          "2020-05-10",
          "2020-05-11",
          "2020-05-12",
          "2020-05-13",
          "2020-05-14",
          "2020-05-15",
          "2020-05-16",
          "2020-05-17",
          "2020-05-18",
          "2020-05-19",
          "2020-05-20",
          "2020-05-21",
          "2020-05-22",
          "2020-05-23",
          "2020-05-24",
          "2020-05-25",
          "2020-05-26",
          "2020-05-27",
          "2020-05-28",
          "2020-05-29",
          "2020-05-30",
          "2020-05-31",
          "2020-06-01",
          "2020-06-02",
          "2020-06-03",
          "2020-06-04",
          "2020-06-05",
          "2020-06-06",
          "2020-06-07",
          "2020-06-08",
          "2020-06-09",
          "2020-06-10",
          "2020-06-11",
          "2020-06-12",
          "2020-06-13",
          "2020-06-14",
          "2020-06-15",
          "2020-06-16",
          "2020-06-17",
          "2020-06-18",
          "2020-06-19",
          "2020-06-20",
          "2020-06-21",
          "2020-06-22",
          "2020-06-23",
          "2020-06-24",
          "2020-06-25",
          "2020-06-26",
          "2020-06-27",
          "2020-06-28",
          "2020-06-29",
          "2020-06-30",
          "2020-07-01",
          "2020-07-02",
          "2020-07-03",
          "2020-07-04",
          "2020-07-05",
          "2020-07-06",
          "2020-07-07",
          "2020-07-08",
          "2020-07-09",
          "2020-07-10",
          "2020-07-11",
          "2020-07-12",
          "2020-07-13",
          "2020-07-14",
          "2020-07-15",
          "2020-07-16",
          "2020-07-17",
          "2020-07-18",
          "2020-07-19",
          "2020-07-20",
          "2020-07-21",
          "2020-07-22",
          "2020-07-23",
          "2020-07-24",
          "2020-07-25",
          "2020-07-26",
          "2020-07-27",
          "2020-07-28",
          "2020-07-29",
          "2020-07-30",
          "2020-07-31",
          "2020-08-01",
          "2020-08-02",
          "2020-08-03",
          "2020-08-04",
          "2020-08-05",
          "2020-08-06",
          "2020-08-07",
          "2020-08-08",
          "2020-08-09",
          "2020-08-10",
          "2020-08-11",
          "2020-08-12",
          "2020-08-13",
          "2020-08-14",
          "2020-08-15",
          "2020-08-16",
          "2020-08-17",
          "2020-08-18",
          "2020-08-19",
          "2020-08-20",
          "2020-08-21",
          "2020-08-22",
          "2020-08-23",
          "2020-08-24",
          "2020-08-25",
          "2020-08-26",
          "2020-08-27",
          "2020-08-28",
          "2020-08-29",
          "2020-08-30",
          "2020-08-31",
          "2020-09-01",
          "2020-09-02",
          "2020-09-03",
          "2020-09-04",
          "2020-09-05",
          "2020-09-06",
          "2020-09-07",
          "2020-09-08",
          "2020-09-09",
          "2020-09-10",
          "2020-09-11",
          "2020-09-12",
          "2020-09-13",
          "2020-09-14",
          "2020-09-15",
          "2020-09-16",
          "2020-09-17",
          "2020-09-18",
          "2020-09-19",
          "2020-09-20",
          "2020-09-21",
          "2020-09-22",
          "2020-09-23",
          "2020-09-24",
          "2020-09-25",
          "2020-09-26",
          "2020-09-27",
          "2020-09-28",
          "2020-09-29",
          "2020-09-30",
          "2020-10-01",
          "2020-10-02",
          "2020-10-03",
          "2020-10-04",
          "2020-10-05",
          "2020-10-06",
          "2020-10-07",
          "2020-10-08",
          "2020-10-09",
          "2020-10-10",
          "2020-10-11",
          "2020-10-12",
          "2020-10-13",
          "2020-10-14",
          "2020-10-15",
          "2020-10-16",
          "2020-10-17",
          "2020-10-18",
          "2020-10-19",
          "2020-10-20",
          "2020-10-21",
          "2020-10-22",
          "2020-10-23",
          "2020-10-24",
          "2020-10-25",
          "2020-10-26",
          "2020-10-27",
          "2020-10-28",
          "2020-10-29",
          "2020-10-30",
          "2020-10-31",
          "2020-11-01",
          "2020-11-02",
          "2020-11-03",
          "2020-11-04",
          "2020-11-05",
          "2020-11-06",
          "2020-11-07",
          "2020-11-08",
          "2020-11-09",
          "2020-11-10",
          "2020-11-11",
          "2020-11-12",
          "2020-11-13",
          "2020-11-14",
          "2020-11-15",
          "2020-11-16",
          "2020-11-17",
          "2020-11-18",
          "2020-11-19",
          "2020-11-20",
          "2020-11-21",
          "2020-11-22",
          "2020-11-23",
          "2020-11-24",
          "2020-11-25",
          "2020-11-26",
          "2020-11-27",
          "2020-11-28",
          "2020-11-29",
          "2020-11-30",
          "2020-12-01",
          "2020-12-02",
          "2020-12-03",
          "2020-12-04",
          "2020-12-05",
          "2020-12-06",
          "2020-12-07",
          "2020-12-08",
          "2020-12-09",
          "2020-12-10",
          "2020-12-11",
          "2020-12-12",
          "2020-12-13",
          "2020-12-14",
          "2020-12-15",
          "2020-12-16",
          "2020-12-17",
          "2020-12-18",
          "2020-12-19",
          "2020-12-20",
          "2020-12-21",
          "2020-12-22",
          "2020-12-23",
          "2020-12-24",
          "2020-12-25",
          "2020-12-26",
          "2020-12-27",
          "2020-12-28",
          "2020-12-29",
          "2020-12-30",
          "2020-12-31",
          "2021-01-01",
          "2021-01-02",
          "2021-01-03",
          "2021-01-04"
         ],
         "y": [
          0,
          0,
          0,
          1,
          1,
          1,
          1,
          1,
          1,
          1,
          1,
          2,
          2,
          3,
          6,
          6,
          8,
          13,
          15,
          18,
          19,
          23,
          34,
          58,
          71,
          85,
          103,
          133,
          141,
          162,
          189,
          211,
          233,
          268,
          289,
          302,
          332,
          397,
          445,
          498,
          533,
          571,
          602,
          651,
          697,
          757,
          798,
          850,
          898,
          945,
          1002,
          1050,
          1133,
          1176,
          1237,
          1264,
          1302,
          1426,
          1485,
          1544,
          1591,
          1648,
          1708,
          1726,
          1775,
          1838,
          1870,
          1901,
          1925,
          1959,
          1982,
          2002,
          2017,
          2066,
          2090,
          2112,
          2139,
          2163,
          2192,
          2215,
          2246,
          2274,
          2296,
          2315,
          2327,
          2335,
          2354,
          2372,
          2417,
          2427,
          2464,
          2483,
          2506,
          2518,
          2525,
          2542,
          2552,
          2562,
          2570,
          2579,
          2593,
          2599,
          2603,
          2613,
          2640,
          2645,
          2654,
          2664,
          2677,
          2689,
          2692,
          2701,
          2706,
          2716,
          2720,
          2724,
          2728,
          2731,
          2733,
          2734,
          2734,
          2735,
          2740,
          2742,
          2752,
          2752,
          2753,
          2759,
          2761,
          2770,
          2776,
          2781,
          2782,
          2785,
          2785,
          2788,
          2789,
          2789,
          2792,
          2794,
          2798,
          2799,
          2804,
          2806,
          2809,
          2811,
          2813,
          2814,
          2817,
          2820,
          2821,
          2821,
          2821,
          2823,
          2824,
          2824,
          2825,
          2825,
          2826,
          2827,
          2827,
          2827,
          2827,
          2828,
          2828,
          2829,
          2833,
          2833,
          2834,
          2834,
          2837,
          2838,
          2838,
          2845,
          2846,
          2846,
          2847,
          2848,
          2849,
          2851,
          2851,
          2851,
          2851,
          2852,
          2853,
          2854,
          2855,
          2855,
          2856,
          2857,
          2858,
          2862,
          2864,
          2864,
          2865,
          2866,
          2866,
          2869,
          2873,
          2876,
          2877,
          2877,
          2878,
          2879,
          2880,
          2884,
          2888,
          2891,
          2975,
          3015,
          3018,
          3028,
          3031,
          3032,
          3035,
          3040,
          3047,
          3049,
          3051,
          3060,
          3062,
          3071,
          3081,
          3084,
          3089,
          3094,
          3099,
          3107,
          3116,
          3123,
          3126,
          3132,
          3142,
          3144,
          3151,
          3162,
          3172,
          3178,
          3186,
          3197,
          3212,
          3227,
          3246,
          3258,
          3268,
          3274,
          3290,
          3307,
          3325,
          3339,
          3355,
          3370,
          3389,
          3399,
          3414,
          3447,
          3470,
          3483,
          3502,
          3514,
          3531,
          3553,
          3584,
          3604,
          3628,
          3651,
          3671,
          3684,
          3699,
          3731,
          3747,
          3779,
          3793,
          3820,
          3838,
          3854,
          3889,
          3925,
          3948,
          3972,
          3987,
          4009,
          null,
          null,
          null,
          null,
          null,
          null,
          null,
          null,
          null,
          null,
          null,
          null,
          null,
          null,
          null,
          null,
          null,
          null,
          null,
          null,
          null
         ]
        },
        {
         "line": {
          "dash": "dash"
         },
         "marker": {
          "color": "red"
         },
         "mode": "lines",
         "name": "Predicted",
         "type": "scatter",
         "x": [
          "2020-03-08",
          "2020-03-09",
          "2020-03-10",
          "2020-03-11",
          "2020-03-12",
          "2020-03-13",
          "2020-03-14",
          "2020-03-15",
          "2020-03-16",
          "2020-03-17",
          "2020-03-18",
          "2020-03-19",
          "2020-03-20",
          "2020-03-21",
          "2020-03-22",
          "2020-03-23",
          "2020-03-24",
          "2020-03-25",
          "2020-03-26",
          "2020-03-27",
          "2020-03-28",
          "2020-03-29",
          "2020-03-30",
          "2020-03-31",
          "2020-04-01",
          "2020-04-02",
          "2020-04-03",
          "2020-04-04",
          "2020-04-05",
          "2020-04-06",
          "2020-04-07",
          "2020-04-08",
          "2020-04-09",
          "2020-04-10",
          "2020-04-11",
          "2020-04-12",
          "2020-04-13",
          "2020-04-14",
          "2020-04-15",
          "2020-04-16",
          "2020-04-17",
          "2020-04-18",
          "2020-04-19",
          "2020-04-20",
          "2020-04-21",
          "2020-04-22",
          "2020-04-23",
          "2020-04-24",
          "2020-04-25",
          "2020-04-26",
          "2020-04-27",
          "2020-04-28",
          "2020-04-29",
          "2020-04-30",
          "2020-05-01",
          "2020-05-02",
          "2020-05-03",
          "2020-05-04",
          "2020-05-05",
          "2020-05-06",
          "2020-05-07",
          "2020-05-08",
          "2020-05-09",
          "2020-05-10",
          "2020-05-11",
          "2020-05-12",
          "2020-05-13",
          "2020-05-14",
          "2020-05-15",
          "2020-05-16",
          "2020-05-17",
          "2020-05-18",
          "2020-05-19",
          "2020-05-20",
          "2020-05-21",
          "2020-05-22",
          "2020-05-23",
          "2020-05-24",
          "2020-05-25",
          "2020-05-26",
          "2020-05-27",
          "2020-05-28",
          "2020-05-29",
          "2020-05-30",
          "2020-05-31",
          "2020-06-01",
          "2020-06-02",
          "2020-06-03",
          "2020-06-04",
          "2020-06-05",
          "2020-06-06",
          "2020-06-07",
          "2020-06-08",
          "2020-06-09",
          "2020-06-10",
          "2020-06-11",
          "2020-06-12",
          "2020-06-13",
          "2020-06-14",
          "2020-06-15",
          "2020-06-16",
          "2020-06-17",
          "2020-06-18",
          "2020-06-19",
          "2020-06-20",
          "2020-06-21",
          "2020-06-22",
          "2020-06-23",
          "2020-06-24",
          "2020-06-25",
          "2020-06-26",
          "2020-06-27",
          "2020-06-28",
          "2020-06-29",
          "2020-06-30",
          "2020-07-01",
          "2020-07-02",
          "2020-07-03",
          "2020-07-04",
          "2020-07-05",
          "2020-07-06",
          "2020-07-07",
          "2020-07-08",
          "2020-07-09",
          "2020-07-10",
          "2020-07-11",
          "2020-07-12",
          "2020-07-13",
          "2020-07-14",
          "2020-07-15",
          "2020-07-16",
          "2020-07-17",
          "2020-07-18",
          "2020-07-19",
          "2020-07-20",
          "2020-07-21",
          "2020-07-22",
          "2020-07-23",
          "2020-07-24",
          "2020-07-25",
          "2020-07-26",
          "2020-07-27",
          "2020-07-28",
          "2020-07-29",
          "2020-07-30",
          "2020-07-31",
          "2020-08-01",
          "2020-08-02",
          "2020-08-03",
          "2020-08-04",
          "2020-08-05",
          "2020-08-06",
          "2020-08-07",
          "2020-08-08",
          "2020-08-09",
          "2020-08-10",
          "2020-08-11",
          "2020-08-12",
          "2020-08-13",
          "2020-08-14",
          "2020-08-15",
          "2020-08-16",
          "2020-08-17",
          "2020-08-18",
          "2020-08-19",
          "2020-08-20",
          "2020-08-21",
          "2020-08-22",
          "2020-08-23",
          "2020-08-24",
          "2020-08-25",
          "2020-08-26",
          "2020-08-27",
          "2020-08-28",
          "2020-08-29",
          "2020-08-30",
          "2020-08-31",
          "2020-09-01",
          "2020-09-02",
          "2020-09-03",
          "2020-09-04",
          "2020-09-05",
          "2020-09-06",
          "2020-09-07",
          "2020-09-08",
          "2020-09-09",
          "2020-09-10",
          "2020-09-11",
          "2020-09-12",
          "2020-09-13",
          "2020-09-14",
          "2020-09-15",
          "2020-09-16",
          "2020-09-17",
          "2020-09-18",
          "2020-09-19",
          "2020-09-20",
          "2020-09-21",
          "2020-09-22",
          "2020-09-23",
          "2020-09-24",
          "2020-09-25",
          "2020-09-26",
          "2020-09-27",
          "2020-09-28",
          "2020-09-29",
          "2020-09-30",
          "2020-10-01",
          "2020-10-02",
          "2020-10-03",
          "2020-10-04",
          "2020-10-05",
          "2020-10-06",
          "2020-10-07",
          "2020-10-08",
          "2020-10-09",
          "2020-10-10",
          "2020-10-11",
          "2020-10-12",
          "2020-10-13",
          "2020-10-14",
          "2020-10-15",
          "2020-10-16",
          "2020-10-17",
          "2020-10-18",
          "2020-10-19",
          "2020-10-20",
          "2020-10-21",
          "2020-10-22",
          "2020-10-23",
          "2020-10-24",
          "2020-10-25",
          "2020-10-26",
          "2020-10-27",
          "2020-10-28",
          "2020-10-29",
          "2020-10-30",
          "2020-10-31",
          "2020-11-01",
          "2020-11-02",
          "2020-11-03",
          "2020-11-04",
          "2020-11-05",
          "2020-11-06",
          "2020-11-07",
          "2020-11-08",
          "2020-11-09",
          "2020-11-10",
          "2020-11-11",
          "2020-11-12",
          "2020-11-13",
          "2020-11-14",
          "2020-11-15",
          "2020-11-16",
          "2020-11-17",
          "2020-11-18",
          "2020-11-19",
          "2020-11-20",
          "2020-11-21",
          "2020-11-22",
          "2020-11-23",
          "2020-11-24",
          "2020-11-25",
          "2020-11-26",
          "2020-11-27",
          "2020-11-28",
          "2020-11-29",
          "2020-11-30",
          "2020-12-01",
          "2020-12-02",
          "2020-12-03",
          "2020-12-04",
          "2020-12-05",
          "2020-12-06",
          "2020-12-07",
          "2020-12-08",
          "2020-12-09",
          "2020-12-10",
          "2020-12-11",
          "2020-12-12",
          "2020-12-13",
          "2020-12-14",
          "2020-12-15",
          "2020-12-16",
          "2020-12-17",
          "2020-12-18",
          "2020-12-19",
          "2020-12-20",
          "2020-12-21",
          "2020-12-22",
          "2020-12-23",
          "2020-12-24",
          "2020-12-25",
          "2020-12-26",
          "2020-12-27",
          "2020-12-28",
          "2020-12-29",
          "2020-12-30",
          "2020-12-31",
          "2021-01-01",
          "2021-01-02",
          "2021-01-03",
          "2021-01-04"
         ],
         "y": [
          0,
          30.432212117615194,
          62.393714033409,
          94.25604843047833,
          125.87018778708935,
          157.22849394831195,
          188.3133432219427,
          219.15745119467968,
          249.74733843855645,
          280.0642028471063,
          310.14337801107774,
          339.9735585022117,
          369.5574983046405,
          398.87938807834774,
          427.98867625818116,
          456.8418203578467,
          485.44758125827076,
          513.8176071978057,
          541.9626539643004,
          569.8747083416247,
          597.5410118194766,
          624.9898234663503,
          652.2111825196474,
          679.2030576474267,
          705.9596829029224,
          732.5232073455087,
          758.8476490820744,
          784.9483876814709,
          810.8353803856145,
          836.5177410933579,
          861.9803586762058,
          887.2253393071137,
          912.2707292640004,
          937.1073502526816,
          961.7313631448541,
          986.1450067419067,
          1010.3811628016758,
          1034.3955613909645,
          1058.2083430678717,
          1081.8269800925327,
          1105.2586558201933,
          1128.4845746494505,
          1151.5175864243315,
          1174.3671683908815,
          1197.0246567091392,
          1219.4864580025733,
          1241.7600633835482,
          1263.8696595222023,
          1285.774329871863,
          1307.49766831088,
          1329.0444488233497,
          1350.4195558933247,
          1371.6036869943937,
          1392.6163295313518,
          1413.4602042487104,
          1434.126882561261,
          1454.6148767013194,
          1474.9340599126197,
          1495.1008611636696,
          1515.0768613258122,
          1534.8936699149315,
          1554.5537966671466,
          1574.0454656622067,
          1593.369610565134,
          1612.5315119538773,
          1631.5469632860163,
          1650.3945351835494,
          1669.0779913046122,
          1687.6222194323814,
          1706.0053902423879,
          1724.2302570579939,
          1742.3020076882797,
          1760.2293665435052,
          1778.0118990658907,
          1795.6322563430003,
          1813.1136154168014,
          1830.4504115435677,
          1847.6422242320386,
          1864.6811051270008,
          1881.594093959863,
          1898.3595240592467,
          1914.979160246665,
          1931.4609074496418,
          1947.811300880362,
          1964.025786214768,
          1980.0957128627676,
          1996.0387331404606,
          2011.8495170152735,
          2027.525717923528,
          2043.0646754243064,
          2058.489175166246,
          2073.776603931904,
          2088.9319171191532,
          2103.9624287313463,
          2118.8735818692808,
          2133.6569996908406,
          2148.312015958126,
          2162.8509822089363,
          2177.26868537447,
          2191.5619092066286,
          2205.7322933075975,
          2219.797927755708,
          2233.7364759290867,
          2247.555831566478,
          2261.2620568757725,
          2274.8593578173804,
          2288.3373141190737,
          2301.6983372633417,
          2314.9624241424413,
          2328.1065741339366,
          2341.1365766503213,
          2354.0603691749498,
          2366.8794027272565,
          2379.5918229260747,
          2392.188149513102,
          2404.6932394940463,
          2417.090906270185,
          2429.375766276889,
          2441.561654677845,
          2453.64756307994,
          2465.6352741369683,
          2477.5138463360413,
          2489.3014210314745,
          2500.9899243821246,
          2512.577107661815,
          2524.065584917488,
          2535.460202364205,
          2546.7665102326246,
          2557.9667613497727,
          2569.0776508885006,
          2580.097089765916,
          2591.0254733897377,
          2601.8552044765006,
          2612.602765993609,
          2623.2591335308252,
          2633.822215620822,
          2644.296171521994,
          2654.685715371502,
          2664.9918375892657,
          2675.203014424071,
          2685.333090562467,
          2695.3796243130573,
          2705.341705233006,
          2715.214795167233,
          2725.0137016852095,
          2734.728238365714,
          2744.3574160316216,
          2753.906195199778,
          2763.3786497907954,
          2772.772587373926,
          2782.0795647910245,
          2791.318557745768,
          2800.478517099099,
          2809.55673800422,
          2818.5594625182757,
          2827.488511580394,
          2836.34665924971,
          2845.121674169947,
          2853.8297671140454,
          2862.4682998776825,
          2871.026834451812,
          2879.514437277082,
          2887.9320842636857,
          2896.2826922280196,
          2904.558372432891,
          2912.7663915591215,
          2920.907628363103,
          2928.979523611557,
          2936.981605556436,
          2944.9161004917123,
          2952.7920496910024,
          2960.5933912901755,
          2968.330620643043,
          2976.0042424716244,
          2983.6160561593492,
          2991.1590874169947,
          2998.6417228938603,
          3006.063010836284,
          3013.420450313619,
          3020.7142612772086,
          3027.9476513323525,
          3035.1262927914386,
          3042.2370151877585,
          3049.290004586404,
          3056.285097744765,
          3063.223147520187,
          3070.0982266164774,
          3076.919432409782,
          3083.6841109194825,
          3090.3899420545486,
          3097.038171721734,
          3103.6321476884636,
          3110.1747767652705,
          3116.6560160441127,
          3123.08510536064,
          3129.4614294621424,
          3135.7849556640826,
          3142.051274752908,
          3148.2685510664114,
          3154.4369178495676,
          3160.5463111961476,
          3166.6069757101127,
          3172.6178179823305,
          3178.579089153696,
          3184.487625463739,
          3190.3464291584205,
          3196.162708811163,
          3201.922449165247,
          3207.6354159157495,
          3213.301961889071,
          3218.92127494612,
          3224.492360992042,
          3230.0145663554385,
          3235.496555493407,
          3240.9282459340893,
          3246.313491098232,
          3251.6541696633694,
          3256.9520864883,
          3262.2040658389774,
          3267.41086521403,
          3272.575981549154,
          3277.6975270559806,
          3282.774703859443,
          3287.8082002227184,
          3292.804650156219,
          3297.75476435056,
          3302.66304361779,
          3307.5309053168658,
          3312.3597925731738,
          3317.145722691349,
          3321.891726082321,
          3326.599469855265,
          3331.2671742280677,
          3335.894183283214,
          3340.482168039425,
          3345.0359463293016,
          3349.5470347368987,
          3354.0205638411503,
          3358.45739224919,
          3362.858470527471,
          3367.219807119457,
          3371.545693294553,
          3375.836428208776,
          3380.0902848267096,
          3384.3070879419915,
          3388.4889291797117,
          3392.639002500313,
          3396.749436516657,
          3400.827030908789,
          3404.872009034364,
          3408.8819650203195,
          3412.857188305331,
          3416.798836819205,
          3420.7101010364036,
          3424.586361400651,
          3428.4288513905262,
          3432.2424126653937,
          3436.0224986622957,
          3439.769775737856,
          3443.4853923292835,
          3447.1711280191203,
          3450.8266637910847,
          3454.4487848349777,
          3458.042106607408,
          3461.605458614305,
          3465.1387146496254,
          3468.640394014041,
          3472.116050219345,
          3475.561030266963,
          3478.9758912408706,
          3482.362260783704,
          3485.721466239603,
          3489.0523914855626,
          3492.3535809638793,
          3495.6285005547898,
          3498.8760349697636,
          3502.0956789973675,
          3505.2870413731375,
          3508.4547465001906,
          3511.5939937466837,
          3514.7060133386285,
          3517.7922675790073,
          3520.853851138732,
          3523.8889112892593,
          3526.8975990394542,
          3529.882281422378,
          3532.8418742747976,
          3535.7757190480484,
          3538.684287163692,
          3541.5712071314,
          3544.431782995026,
          3547.2678409340297,
          3550.0805612882386,
          3552.8707762258055,
          3555.6362652647254,
          3558.3777725496248,
          3561.0992380741354,
          3563.7958322532213,
          3566.468979847005,
          3569.1202297604277,
          3571.749867161043,
          3574.3574206089174,
          3576.9411253518865
         ]
        }
       ],
       "layout": {
        "autosize": true,
        "shapes": [
         {
          "type": "line",
          "x0": "2020-12-14",
          "x1": "2020-12-14",
          "xref": "x",
          "y0": 0,
          "y1": 1,
          "yref": "paper"
         }
        ],
        "template": {
         "data": {
          "bar": [
           {
            "error_x": {
             "color": "#2a3f5f"
            },
            "error_y": {
             "color": "#2a3f5f"
            },
            "marker": {
             "line": {
              "color": "#E5ECF6",
              "width": 0.5
             }
            },
            "type": "bar"
           }
          ],
          "barpolar": [
           {
            "marker": {
             "line": {
              "color": "#E5ECF6",
              "width": 0.5
             }
            },
            "type": "barpolar"
           }
          ],
          "carpet": [
           {
            "aaxis": {
             "endlinecolor": "#2a3f5f",
             "gridcolor": "white",
             "linecolor": "white",
             "minorgridcolor": "white",
             "startlinecolor": "#2a3f5f"
            },
            "baxis": {
             "endlinecolor": "#2a3f5f",
             "gridcolor": "white",
             "linecolor": "white",
             "minorgridcolor": "white",
             "startlinecolor": "#2a3f5f"
            },
            "type": "carpet"
           }
          ],
          "choropleth": [
           {
            "colorbar": {
             "outlinewidth": 0,
             "ticks": ""
            },
            "type": "choropleth"
           }
          ],
          "contour": [
           {
            "colorbar": {
             "outlinewidth": 0,
             "ticks": ""
            },
            "colorscale": [
             [
              0,
              "#0d0887"
             ],
             [
              0.1111111111111111,
              "#46039f"
             ],
             [
              0.2222222222222222,
              "#7201a8"
             ],
             [
              0.3333333333333333,
              "#9c179e"
             ],
             [
              0.4444444444444444,
              "#bd3786"
             ],
             [
              0.5555555555555556,
              "#d8576b"
             ],
             [
              0.6666666666666666,
              "#ed7953"
             ],
             [
              0.7777777777777778,
              "#fb9f3a"
             ],
             [
              0.8888888888888888,
              "#fdca26"
             ],
             [
              1,
              "#f0f921"
             ]
            ],
            "type": "contour"
           }
          ],
          "contourcarpet": [
           {
            "colorbar": {
             "outlinewidth": 0,
             "ticks": ""
            },
            "type": "contourcarpet"
           }
          ],
          "heatmap": [
           {
            "colorbar": {
             "outlinewidth": 0,
             "ticks": ""
            },
            "colorscale": [
             [
              0,
              "#0d0887"
             ],
             [
              0.1111111111111111,
              "#46039f"
             ],
             [
              0.2222222222222222,
              "#7201a8"
             ],
             [
              0.3333333333333333,
              "#9c179e"
             ],
             [
              0.4444444444444444,
              "#bd3786"
             ],
             [
              0.5555555555555556,
              "#d8576b"
             ],
             [
              0.6666666666666666,
              "#ed7953"
             ],
             [
              0.7777777777777778,
              "#fb9f3a"
             ],
             [
              0.8888888888888888,
              "#fdca26"
             ],
             [
              1,
              "#f0f921"
             ]
            ],
            "type": "heatmap"
           }
          ],
          "heatmapgl": [
           {
            "colorbar": {
             "outlinewidth": 0,
             "ticks": ""
            },
            "colorscale": [
             [
              0,
              "#0d0887"
             ],
             [
              0.1111111111111111,
              "#46039f"
             ],
             [
              0.2222222222222222,
              "#7201a8"
             ],
             [
              0.3333333333333333,
              "#9c179e"
             ],
             [
              0.4444444444444444,
              "#bd3786"
             ],
             [
              0.5555555555555556,
              "#d8576b"
             ],
             [
              0.6666666666666666,
              "#ed7953"
             ],
             [
              0.7777777777777778,
              "#fb9f3a"
             ],
             [
              0.8888888888888888,
              "#fdca26"
             ],
             [
              1,
              "#f0f921"
             ]
            ],
            "type": "heatmapgl"
           }
          ],
          "histogram": [
           {
            "marker": {
             "colorbar": {
              "outlinewidth": 0,
              "ticks": ""
             }
            },
            "type": "histogram"
           }
          ],
          "histogram2d": [
           {
            "colorbar": {
             "outlinewidth": 0,
             "ticks": ""
            },
            "colorscale": [
             [
              0,
              "#0d0887"
             ],
             [
              0.1111111111111111,
              "#46039f"
             ],
             [
              0.2222222222222222,
              "#7201a8"
             ],
             [
              0.3333333333333333,
              "#9c179e"
             ],
             [
              0.4444444444444444,
              "#bd3786"
             ],
             [
              0.5555555555555556,
              "#d8576b"
             ],
             [
              0.6666666666666666,
              "#ed7953"
             ],
             [
              0.7777777777777778,
              "#fb9f3a"
             ],
             [
              0.8888888888888888,
              "#fdca26"
             ],
             [
              1,
              "#f0f921"
             ]
            ],
            "type": "histogram2d"
           }
          ],
          "histogram2dcontour": [
           {
            "colorbar": {
             "outlinewidth": 0,
             "ticks": ""
            },
            "colorscale": [
             [
              0,
              "#0d0887"
             ],
             [
              0.1111111111111111,
              "#46039f"
             ],
             [
              0.2222222222222222,
              "#7201a8"
             ],
             [
              0.3333333333333333,
              "#9c179e"
             ],
             [
              0.4444444444444444,
              "#bd3786"
             ],
             [
              0.5555555555555556,
              "#d8576b"
             ],
             [
              0.6666666666666666,
              "#ed7953"
             ],
             [
              0.7777777777777778,
              "#fb9f3a"
             ],
             [
              0.8888888888888888,
              "#fdca26"
             ],
             [
              1,
              "#f0f921"
             ]
            ],
            "type": "histogram2dcontour"
           }
          ],
          "mesh3d": [
           {
            "colorbar": {
             "outlinewidth": 0,
             "ticks": ""
            },
            "type": "mesh3d"
           }
          ],
          "parcoords": [
           {
            "line": {
             "colorbar": {
              "outlinewidth": 0,
              "ticks": ""
             }
            },
            "type": "parcoords"
           }
          ],
          "pie": [
           {
            "automargin": true,
            "type": "pie"
           }
          ],
          "scatter": [
           {
            "marker": {
             "colorbar": {
              "outlinewidth": 0,
              "ticks": ""
             }
            },
            "type": "scatter"
           }
          ],
          "scatter3d": [
           {
            "line": {
             "colorbar": {
              "outlinewidth": 0,
              "ticks": ""
             }
            },
            "marker": {
             "colorbar": {
              "outlinewidth": 0,
              "ticks": ""
             }
            },
            "type": "scatter3d"
           }
          ],
          "scattercarpet": [
           {
            "marker": {
             "colorbar": {
              "outlinewidth": 0,
              "ticks": ""
             }
            },
            "type": "scattercarpet"
           }
          ],
          "scattergeo": [
           {
            "marker": {
             "colorbar": {
              "outlinewidth": 0,
              "ticks": ""
             }
            },
            "type": "scattergeo"
           }
          ],
          "scattergl": [
           {
            "marker": {
             "colorbar": {
              "outlinewidth": 0,
              "ticks": ""
             }
            },
            "type": "scattergl"
           }
          ],
          "scattermapbox": [
           {
            "marker": {
             "colorbar": {
              "outlinewidth": 0,
              "ticks": ""
             }
            },
            "type": "scattermapbox"
           }
          ],
          "scatterpolar": [
           {
            "marker": {
             "colorbar": {
              "outlinewidth": 0,
              "ticks": ""
             }
            },
            "type": "scatterpolar"
           }
          ],
          "scatterpolargl": [
           {
            "marker": {
             "colorbar": {
              "outlinewidth": 0,
              "ticks": ""
             }
            },
            "type": "scatterpolargl"
           }
          ],
          "scatterternary": [
           {
            "marker": {
             "colorbar": {
              "outlinewidth": 0,
              "ticks": ""
             }
            },
            "type": "scatterternary"
           }
          ],
          "surface": [
           {
            "colorbar": {
             "outlinewidth": 0,
             "ticks": ""
            },
            "colorscale": [
             [
              0,
              "#0d0887"
             ],
             [
              0.1111111111111111,
              "#46039f"
             ],
             [
              0.2222222222222222,
              "#7201a8"
             ],
             [
              0.3333333333333333,
              "#9c179e"
             ],
             [
              0.4444444444444444,
              "#bd3786"
             ],
             [
              0.5555555555555556,
              "#d8576b"
             ],
             [
              0.6666666666666666,
              "#ed7953"
             ],
             [
              0.7777777777777778,
              "#fb9f3a"
             ],
             [
              0.8888888888888888,
              "#fdca26"
             ],
             [
              1,
              "#f0f921"
             ]
            ],
            "type": "surface"
           }
          ],
          "table": [
           {
            "cells": {
             "fill": {
              "color": "#EBF0F8"
             },
             "line": {
              "color": "white"
             }
            },
            "header": {
             "fill": {
              "color": "#C8D4E3"
             },
             "line": {
              "color": "white"
             }
            },
            "type": "table"
           }
          ]
         },
         "layout": {
          "annotationdefaults": {
           "arrowcolor": "#2a3f5f",
           "arrowhead": 0,
           "arrowwidth": 1
          },
          "coloraxis": {
           "colorbar": {
            "outlinewidth": 0,
            "ticks": ""
           }
          },
          "colorscale": {
           "diverging": [
            [
             0,
             "#8e0152"
            ],
            [
             0.1,
             "#c51b7d"
            ],
            [
             0.2,
             "#de77ae"
            ],
            [
             0.3,
             "#f1b6da"
            ],
            [
             0.4,
             "#fde0ef"
            ],
            [
             0.5,
             "#f7f7f7"
            ],
            [
             0.6,
             "#e6f5d0"
            ],
            [
             0.7,
             "#b8e186"
            ],
            [
             0.8,
             "#7fbc41"
            ],
            [
             0.9,
             "#4d9221"
            ],
            [
             1,
             "#276419"
            ]
           ],
           "sequential": [
            [
             0,
             "#0d0887"
            ],
            [
             0.1111111111111111,
             "#46039f"
            ],
            [
             0.2222222222222222,
             "#7201a8"
            ],
            [
             0.3333333333333333,
             "#9c179e"
            ],
            [
             0.4444444444444444,
             "#bd3786"
            ],
            [
             0.5555555555555556,
             "#d8576b"
            ],
            [
             0.6666666666666666,
             "#ed7953"
            ],
            [
             0.7777777777777778,
             "#fb9f3a"
            ],
            [
             0.8888888888888888,
             "#fdca26"
            ],
            [
             1,
             "#f0f921"
            ]
           ],
           "sequentialminus": [
            [
             0,
             "#0d0887"
            ],
            [
             0.1111111111111111,
             "#46039f"
            ],
            [
             0.2222222222222222,
             "#7201a8"
            ],
            [
             0.3333333333333333,
             "#9c179e"
            ],
            [
             0.4444444444444444,
             "#bd3786"
            ],
            [
             0.5555555555555556,
             "#d8576b"
            ],
            [
             0.6666666666666666,
             "#ed7953"
            ],
            [
             0.7777777777777778,
             "#fb9f3a"
            ],
            [
             0.8888888888888888,
             "#fdca26"
            ],
            [
             1,
             "#f0f921"
            ]
           ]
          },
          "colorway": [
           "#636efa",
           "#EF553B",
           "#00cc96",
           "#ab63fa",
           "#FFA15A",
           "#19d3f3",
           "#FF6692",
           "#B6E880",
           "#FF97FF",
           "#FECB52"
          ],
          "font": {
           "color": "#2a3f5f"
          },
          "geo": {
           "bgcolor": "white",
           "lakecolor": "white",
           "landcolor": "#E5ECF6",
           "showlakes": true,
           "showland": true,
           "subunitcolor": "white"
          },
          "hoverlabel": {
           "align": "left"
          },
          "hovermode": "closest",
          "mapbox": {
           "style": "light"
          },
          "paper_bgcolor": "white",
          "plot_bgcolor": "#E5ECF6",
          "polar": {
           "angularaxis": {
            "gridcolor": "white",
            "linecolor": "white",
            "ticks": ""
           },
           "bgcolor": "#E5ECF6",
           "radialaxis": {
            "gridcolor": "white",
            "linecolor": "white",
            "ticks": ""
           }
          },
          "scene": {
           "xaxis": {
            "backgroundcolor": "#E5ECF6",
            "gridcolor": "white",
            "gridwidth": 2,
            "linecolor": "white",
            "showbackground": true,
            "ticks": "",
            "zerolinecolor": "white"
           },
           "yaxis": {
            "backgroundcolor": "#E5ECF6",
            "gridcolor": "white",
            "gridwidth": 2,
            "linecolor": "white",
            "showbackground": true,
            "ticks": "",
            "zerolinecolor": "white"
           },
           "zaxis": {
            "backgroundcolor": "#E5ECF6",
            "gridcolor": "white",
            "gridwidth": 2,
            "linecolor": "white",
            "showbackground": true,
            "ticks": "",
            "zerolinecolor": "white"
           }
          },
          "shapedefaults": {
           "line": {
            "color": "#2a3f5f"
           }
          },
          "ternary": {
           "aaxis": {
            "gridcolor": "white",
            "linecolor": "white",
            "ticks": ""
           },
           "baxis": {
            "gridcolor": "white",
            "linecolor": "white",
            "ticks": ""
           },
           "bgcolor": "#E5ECF6",
           "caxis": {
            "gridcolor": "white",
            "linecolor": "white",
            "ticks": ""
           }
          },
          "title": {
           "x": 0.05
          },
          "xaxis": {
           "automargin": true,
           "gridcolor": "white",
           "linecolor": "white",
           "ticks": "",
           "title": {
            "standoff": 15
           },
           "zerolinecolor": "white",
           "zerolinewidth": 2
          },
          "yaxis": {
           "automargin": true,
           "gridcolor": "white",
           "linecolor": "white",
           "ticks": "",
           "title": {
            "standoff": 15
           },
           "zerolinecolor": "white",
           "zerolinewidth": 2
          }
         }
        },
        "title": {
         "text": "COVID-19 mortality in Ontario"
        },
        "xaxis": {
         "autorange": true,
         "range": [
          "2020-03-08",
          "2021-01-04"
         ],
         "title": {
          "text": "Date"
         },
         "type": "date"
        },
        "yaxis": {
         "autorange": true,
         "range": [
          -222.72222222222223,
          4231.722222222223
         ],
         "title": {
          "text": "Cumulative deaths"
         },
         "type": "linear"
        }
       }
      },
      "image/png": "[encoded data removed]",
      "text/html": [
       "<div>                            <div id=\"813f5db5-4ece-40df-b111-e58e0f76e2d7\" class=\"plotly-graph-div\" style=\"height:600px; width:100%;\"></div>            <script type=\"text/javascript\">                require([\"plotly\"], function(Plotly) {                    window.PLOTLYENV=window.PLOTLYENV || {};                                    if (document.getElementById(\"813f5db5-4ece-40df-b111-e58e0f76e2d7\")) {                    Plotly.newPlot(                        \"813f5db5-4ece-40df-b111-e58e0f76e2d7\",                        [{\"marker\": {\"color\": \"blue\"}, \"mode\": \"lines\", \"name\": \"Actual\", \"type\": \"scatter\", \"x\": [\"2020-03-08\", \"2020-03-09\", \"2020-03-10\", \"2020-03-11\", \"2020-03-12\", \"2020-03-13\", \"2020-03-14\", \"2020-03-15\", \"2020-03-16\", \"2020-03-17\", \"2020-03-18\", \"2020-03-19\", \"2020-03-20\", \"2020-03-21\", \"2020-03-22\", \"2020-03-23\", \"2020-03-24\", \"2020-03-25\", \"2020-03-26\", \"2020-03-27\", \"2020-03-28\", \"2020-03-29\", \"2020-03-30\", \"2020-03-31\", \"2020-04-01\", \"2020-04-02\", \"2020-04-03\", \"2020-04-04\", \"2020-04-05\", \"2020-04-06\", \"2020-04-07\", \"2020-04-08\", \"2020-04-09\", \"2020-04-10\", \"2020-04-11\", \"2020-04-12\", \"2020-04-13\", \"2020-04-14\", \"2020-04-15\", \"2020-04-16\", \"2020-04-17\", \"2020-04-18\", \"2020-04-19\", \"2020-04-20\", \"2020-04-21\", \"2020-04-22\", \"2020-04-23\", \"2020-04-24\", \"2020-04-25\", \"2020-04-26\", \"2020-04-27\", \"2020-04-28\", \"2020-04-29\", \"2020-04-30\", \"2020-05-01\", \"2020-05-02\", \"2020-05-03\", \"2020-05-04\", \"2020-05-05\", \"2020-05-06\", \"2020-05-07\", \"2020-05-08\", \"2020-05-09\", \"2020-05-10\", \"2020-05-11\", \"2020-05-12\", \"2020-05-13\", \"2020-05-14\", \"2020-05-15\", \"2020-05-16\", \"2020-05-17\", \"2020-05-18\", \"2020-05-19\", \"2020-05-20\", \"2020-05-21\", \"2020-05-22\", \"2020-05-23\", \"2020-05-24\", \"2020-05-25\", \"2020-05-26\", \"2020-05-27\", \"2020-05-28\", \"2020-05-29\", \"2020-05-30\", \"2020-05-31\", \"2020-06-01\", \"2020-06-02\", \"2020-06-03\", \"2020-06-04\", \"2020-06-05\", \"2020-06-06\", \"2020-06-07\", \"2020-06-08\", \"2020-06-09\", \"2020-06-10\", \"2020-06-11\", \"2020-06-12\", \"2020-06-13\", \"2020-06-14\", \"2020-06-15\", \"2020-06-16\", \"2020-06-17\", \"2020-06-18\", \"2020-06-19\", \"2020-06-20\", \"2020-06-21\", \"2020-06-22\", \"2020-06-23\", \"2020-06-24\", \"2020-06-25\", \"2020-06-26\", \"2020-06-27\", \"2020-06-28\", \"2020-06-29\", \"2020-06-30\", \"2020-07-01\", \"2020-07-02\", \"2020-07-03\", \"2020-07-04\", \"2020-07-05\", \"2020-07-06\", \"2020-07-07\", \"2020-07-08\", \"2020-07-09\", \"2020-07-10\", \"2020-07-11\", \"2020-07-12\", \"2020-07-13\", \"2020-07-14\", \"2020-07-15\", \"2020-07-16\", \"2020-07-17\", \"2020-07-18\", \"2020-07-19\", \"2020-07-20\", \"2020-07-21\", \"2020-07-22\", \"2020-07-23\", \"2020-07-24\", \"2020-07-25\", \"2020-07-26\", \"2020-07-27\", \"2020-07-28\", \"2020-07-29\", \"2020-07-30\", \"2020-07-31\", \"2020-08-01\", \"2020-08-02\", \"2020-08-03\", \"2020-08-04\", \"2020-08-05\", \"2020-08-06\", \"2020-08-07\", \"2020-08-08\", \"2020-08-09\", \"2020-08-10\", \"2020-08-11\", \"2020-08-12\", \"2020-08-13\", \"2020-08-14\", \"2020-08-15\", \"2020-08-16\", \"2020-08-17\", \"2020-08-18\", \"2020-08-19\", \"2020-08-20\", \"2020-08-21\", \"2020-08-22\", \"2020-08-23\", \"2020-08-24\", \"2020-08-25\", \"2020-08-26\", \"2020-08-27\", \"2020-08-28\", \"2020-08-29\", \"2020-08-30\", \"2020-08-31\", \"2020-09-01\", \"2020-09-02\", \"2020-09-03\", \"2020-09-04\", \"2020-09-05\", \"2020-09-06\", \"2020-09-07\", \"2020-09-08\", \"2020-09-09\", \"2020-09-10\", \"2020-09-11\", \"2020-09-12\", \"2020-09-13\", \"2020-09-14\", \"2020-09-15\", \"2020-09-16\", \"2020-09-17\", \"2020-09-18\", \"2020-09-19\", \"2020-09-20\", \"2020-09-21\", \"2020-09-22\", \"2020-09-23\", \"2020-09-24\", \"2020-09-25\", \"2020-09-26\", \"2020-09-27\", \"2020-09-28\", \"2020-09-29\", \"2020-09-30\", \"2020-10-01\", \"2020-10-02\", \"2020-10-03\", \"2020-10-04\", \"2020-10-05\", \"2020-10-06\", \"2020-10-07\", \"2020-10-08\", \"2020-10-09\", \"2020-10-10\", \"2020-10-11\", \"2020-10-12\", \"2020-10-13\", \"2020-10-14\", \"2020-10-15\", \"2020-10-16\", \"2020-10-17\", \"2020-10-18\", \"2020-10-19\", \"2020-10-20\", \"2020-10-21\", \"2020-10-22\", \"2020-10-23\", \"2020-10-24\", \"2020-10-25\", \"2020-10-26\", \"2020-10-27\", \"2020-10-28\", \"2020-10-29\", \"2020-10-30\", \"2020-10-31\", \"2020-11-01\", \"2020-11-02\", \"2020-11-03\", \"2020-11-04\", \"2020-11-05\", \"2020-11-06\", \"2020-11-07\", \"2020-11-08\", \"2020-11-09\", \"2020-11-10\", \"2020-11-11\", \"2020-11-12\", \"2020-11-13\", \"2020-11-14\", \"2020-11-15\", \"2020-11-16\", \"2020-11-17\", \"2020-11-18\", \"2020-11-19\", \"2020-11-20\", \"2020-11-21\", \"2020-11-22\", \"2020-11-23\", \"2020-11-24\", \"2020-11-25\", \"2020-11-26\", \"2020-11-27\", \"2020-11-28\", \"2020-11-29\", \"2020-11-30\", \"2020-12-01\", \"2020-12-02\", \"2020-12-03\", \"2020-12-04\", \"2020-12-05\", \"2020-12-06\", \"2020-12-07\", \"2020-12-08\", \"2020-12-09\", \"2020-12-10\", \"2020-12-11\", \"2020-12-12\", \"2020-12-13\", \"2020-12-14\", \"2020-12-15\", \"2020-12-16\", \"2020-12-17\", \"2020-12-18\", \"2020-12-19\", \"2020-12-20\", \"2020-12-21\", \"2020-12-22\", \"2020-12-23\", \"2020-12-24\", \"2020-12-25\", \"2020-12-26\", \"2020-12-27\", \"2020-12-28\", \"2020-12-29\", \"2020-12-30\", \"2020-12-31\", \"2021-01-01\", \"2021-01-02\", \"2021-01-03\", \"2021-01-04\"], \"y\": [0.0, 0.0, 0.0, 1.0, 1.0, 1.0, 1.0, 1.0, 1.0, 1.0, 1.0, 2.0, 2.0, 3.0, 6.0, 6.0, 8.0, 13.0, 15.0, 18.0, 19.0, 23.0, 34.0, 58.0, 71.0, 85.0, 103.0, 133.0, 141.0, 162.0, 189.0, 211.0, 233.0, 268.0, 289.0, 302.0, 332.0, 397.0, 445.0, 498.0, 533.0, 571.0, 602.0, 651.0, 697.0, 757.0, 798.0, 850.0, 898.0, 945.0, 1002.0, 1050.0, 1133.0, 1176.0, 1237.0, 1264.0, 1302.0, 1426.0, 1485.0, 1544.0, 1591.0, 1648.0, 1708.0, 1726.0, 1775.0, 1838.0, 1870.0, 1901.0, 1925.0, 1959.0, 1982.0, 2002.0, 2017.0, 2066.0, 2090.0, 2112.0, 2139.0, 2163.0, 2192.0, 2215.0, 2246.0, 2274.0, 2296.0, 2315.0, 2327.0, 2335.0, 2354.0, 2372.0, 2417.0, 2427.0, 2464.0, 2483.0, 2506.0, 2518.0, 2525.0, 2542.0, 2552.0, 2562.0, 2570.0, 2579.0, 2593.0, 2599.0, 2603.0, 2613.0, 2640.0, 2645.0, 2654.0, 2664.0, 2677.0, 2689.0, 2692.0, 2701.0, 2706.0, 2716.0, 2720.0, 2724.0, 2728.0, 2731.0, 2733.0, 2734.0, 2734.0, 2735.0, 2740.0, 2742.0, 2752.0, 2752.0, 2753.0, 2759.0, 2761.0, 2770.0, 2776.0, 2781.0, 2782.0, 2785.0, 2785.0, 2788.0, 2789.0, 2789.0, 2792.0, 2794.0, 2798.0, 2799.0, 2804.0, 2806.0, 2809.0, 2811.0, 2813.0, 2814.0, 2817.0, 2820.0, 2821.0, 2821.0, 2821.0, 2823.0, 2824.0, 2824.0, 2825.0, 2825.0, 2826.0, 2827.0, 2827.0, 2827.0, 2827.0, 2828.0, 2828.0, 2829.0, 2833.0, 2833.0, 2834.0, 2834.0, 2837.0, 2838.0, 2838.0, 2845.0, 2846.0, 2846.0, 2847.0, 2848.0, 2849.0, 2851.0, 2851.0, 2851.0, 2851.0, 2852.0, 2853.0, 2854.0, 2855.0, 2855.0, 2856.0, 2857.0, 2858.0, 2862.0, 2864.0, 2864.0, 2865.0, 2866.0, 2866.0, 2869.0, 2873.0, 2876.0, 2877.0, 2877.0, 2878.0, 2879.0, 2880.0, 2884.0, 2888.0, 2891.0, 2975.0, 3015.0, 3018.0, 3028.0, 3031.0, 3032.0, 3035.0, 3040.0, 3047.0, 3049.0, 3051.0, 3060.0, 3062.0, 3071.0, 3081.0, 3084.0, 3089.0, 3094.0, 3099.0, 3107.0, 3116.0, 3123.0, 3126.0, 3132.0, 3142.0, 3144.0, 3151.0, 3162.0, 3172.0, 3178.0, 3186.0, 3197.0, 3212.0, 3227.0, 3246.0, 3258.0, 3268.0, 3274.0, 3290.0, 3307.0, 3325.0, 3339.0, 3355.0, 3370.0, 3389.0, 3399.0, 3414.0, 3447.0, 3470.0, 3483.0, 3502.0, 3514.0, 3531.0, 3553.0, 3584.0, 3604.0, 3628.0, 3651.0, 3671.0, 3684.0, 3699.0, 3731.0, 3747.0, 3779.0, 3793.0, 3820.0, 3838.0, 3854.0, 3889.0, 3925.0, 3948.0, 3972.0, 3987.0, 4009.0, null, null, null, null, null, null, null, null, null, null, null, null, null, null, null, null, null, null, null, null, null]}, {\"line\": {\"dash\": \"dash\"}, \"marker\": {\"color\": \"red\"}, \"mode\": \"lines\", \"name\": \"Predicted\", \"type\": \"scatter\", \"x\": [\"2020-03-08\", \"2020-03-09\", \"2020-03-10\", \"2020-03-11\", \"2020-03-12\", \"2020-03-13\", \"2020-03-14\", \"2020-03-15\", \"2020-03-16\", \"2020-03-17\", \"2020-03-18\", \"2020-03-19\", \"2020-03-20\", \"2020-03-21\", \"2020-03-22\", \"2020-03-23\", \"2020-03-24\", \"2020-03-25\", \"2020-03-26\", \"2020-03-27\", \"2020-03-28\", \"2020-03-29\", \"2020-03-30\", \"2020-03-31\", \"2020-04-01\", \"2020-04-02\", \"2020-04-03\", \"2020-04-04\", \"2020-04-05\", \"2020-04-06\", \"2020-04-07\", \"2020-04-08\", \"2020-04-09\", \"2020-04-10\", \"2020-04-11\", \"2020-04-12\", \"2020-04-13\", \"2020-04-14\", \"2020-04-15\", \"2020-04-16\", \"2020-04-17\", \"2020-04-18\", \"2020-04-19\", \"2020-04-20\", \"2020-04-21\", \"2020-04-22\", \"2020-04-23\", \"2020-04-24\", \"2020-04-25\", \"2020-04-26\", \"2020-04-27\", \"2020-04-28\", \"2020-04-29\", \"2020-04-30\", \"2020-05-01\", \"2020-05-02\", \"2020-05-03\", \"2020-05-04\", \"2020-05-05\", \"2020-05-06\", \"2020-05-07\", \"2020-05-08\", \"2020-05-09\", \"2020-05-10\", \"2020-05-11\", \"2020-05-12\", \"2020-05-13\", \"2020-05-14\", \"2020-05-15\", \"2020-05-16\", \"2020-05-17\", \"2020-05-18\", \"2020-05-19\", \"2020-05-20\", \"2020-05-21\", \"2020-05-22\", \"2020-05-23\", \"2020-05-24\", \"2020-05-25\", \"2020-05-26\", \"2020-05-27\", \"2020-05-28\", \"2020-05-29\", \"2020-05-30\", \"2020-05-31\", \"2020-06-01\", \"2020-06-02\", \"2020-06-03\", \"2020-06-04\", \"2020-06-05\", \"2020-06-06\", \"2020-06-07\", \"2020-06-08\", \"2020-06-09\", \"2020-06-10\", \"2020-06-11\", \"2020-06-12\", \"2020-06-13\", \"2020-06-14\", \"2020-06-15\", \"2020-06-16\", \"2020-06-17\", \"2020-06-18\", \"2020-06-19\", \"2020-06-20\", \"2020-06-21\", \"2020-06-22\", \"2020-06-23\", \"2020-06-24\", \"2020-06-25\", \"2020-06-26\", \"2020-06-27\", \"2020-06-28\", \"2020-06-29\", \"2020-06-30\", \"2020-07-01\", \"2020-07-02\", \"2020-07-03\", \"2020-07-04\", \"2020-07-05\", \"2020-07-06\", \"2020-07-07\", \"2020-07-08\", \"2020-07-09\", \"2020-07-10\", \"2020-07-11\", \"2020-07-12\", \"2020-07-13\", \"2020-07-14\", \"2020-07-15\", \"2020-07-16\", \"2020-07-17\", \"2020-07-18\", \"2020-07-19\", \"2020-07-20\", \"2020-07-21\", \"2020-07-22\", \"2020-07-23\", \"2020-07-24\", \"2020-07-25\", \"2020-07-26\", \"2020-07-27\", \"2020-07-28\", \"2020-07-29\", \"2020-07-30\", \"2020-07-31\", \"2020-08-01\", \"2020-08-02\", \"2020-08-03\", \"2020-08-04\", \"2020-08-05\", \"2020-08-06\", \"2020-08-07\", \"2020-08-08\", \"2020-08-09\", \"2020-08-10\", \"2020-08-11\", \"2020-08-12\", \"2020-08-13\", \"2020-08-14\", \"2020-08-15\", \"2020-08-16\", \"2020-08-17\", \"2020-08-18\", \"2020-08-19\", \"2020-08-20\", \"2020-08-21\", \"2020-08-22\", \"2020-08-23\", \"2020-08-24\", \"2020-08-25\", \"2020-08-26\", \"2020-08-27\", \"2020-08-28\", \"2020-08-29\", \"2020-08-30\", \"2020-08-31\", \"2020-09-01\", \"2020-09-02\", \"2020-09-03\", \"2020-09-04\", \"2020-09-05\", \"2020-09-06\", \"2020-09-07\", \"2020-09-08\", \"2020-09-09\", \"2020-09-10\", \"2020-09-11\", \"2020-09-12\", \"2020-09-13\", \"2020-09-14\", \"2020-09-15\", \"2020-09-16\", \"2020-09-17\", \"2020-09-18\", \"2020-09-19\", \"2020-09-20\", \"2020-09-21\", \"2020-09-22\", \"2020-09-23\", \"2020-09-24\", \"2020-09-25\", \"2020-09-26\", \"2020-09-27\", \"2020-09-28\", \"2020-09-29\", \"2020-09-30\", \"2020-10-01\", \"2020-10-02\", \"2020-10-03\", \"2020-10-04\", \"2020-10-05\", \"2020-10-06\", \"2020-10-07\", \"2020-10-08\", \"2020-10-09\", \"2020-10-10\", \"2020-10-11\", \"2020-10-12\", \"2020-10-13\", \"2020-10-14\", \"2020-10-15\", \"2020-10-16\", \"2020-10-17\", \"2020-10-18\", \"2020-10-19\", \"2020-10-20\", \"2020-10-21\", \"2020-10-22\", \"2020-10-23\", \"2020-10-24\", \"2020-10-25\", \"2020-10-26\", \"2020-10-27\", \"2020-10-28\", \"2020-10-29\", \"2020-10-30\", \"2020-10-31\", \"2020-11-01\", \"2020-11-02\", \"2020-11-03\", \"2020-11-04\", \"2020-11-05\", \"2020-11-06\", \"2020-11-07\", \"2020-11-08\", \"2020-11-09\", \"2020-11-10\", \"2020-11-11\", \"2020-11-12\", \"2020-11-13\", \"2020-11-14\", \"2020-11-15\", \"2020-11-16\", \"2020-11-17\", \"2020-11-18\", \"2020-11-19\", \"2020-11-20\", \"2020-11-21\", \"2020-11-22\", \"2020-11-23\", \"2020-11-24\", \"2020-11-25\", \"2020-11-26\", \"2020-11-27\", \"2020-11-28\", \"2020-11-29\", \"2020-11-30\", \"2020-12-01\", \"2020-12-02\", \"2020-12-03\", \"2020-12-04\", \"2020-12-05\", \"2020-12-06\", \"2020-12-07\", \"2020-12-08\", \"2020-12-09\", \"2020-12-10\", \"2020-12-11\", \"2020-12-12\", \"2020-12-13\", \"2020-12-14\", \"2020-12-15\", \"2020-12-16\", \"2020-12-17\", \"2020-12-18\", \"2020-12-19\", \"2020-12-20\", \"2020-12-21\", \"2020-12-22\", \"2020-12-23\", \"2020-12-24\", \"2020-12-25\", \"2020-12-26\", \"2020-12-27\", \"2020-12-28\", \"2020-12-29\", \"2020-12-30\", \"2020-12-31\", \"2021-01-01\", \"2021-01-02\", \"2021-01-03\", \"2021-01-04\"], \"y\": [0.0, 30.432212117615194, 62.393714033409, 94.25604843047833, 125.87018778708935, 157.22849394831195, 188.3133432219427, 219.15745119467968, 249.74733843855645, 280.0642028471063, 310.14337801107774, 339.9735585022117, 369.5574983046405, 398.87938807834774, 427.98867625818116, 456.8418203578467, 485.44758125827076, 513.8176071978057, 541.9626539643004, 569.8747083416247, 597.5410118194766, 624.9898234663503, 652.2111825196474, 679.2030576474267, 705.9596829029224, 732.5232073455087, 758.8476490820744, 784.9483876814709, 810.8353803856145, 836.5177410933579, 861.9803586762058, 887.2253393071137, 912.2707292640004, 937.1073502526816, 961.7313631448541, 986.1450067419067, 1010.3811628016758, 1034.3955613909645, 1058.2083430678717, 1081.8269800925327, 1105.2586558201933, 1128.4845746494505, 1151.5175864243315, 1174.3671683908815, 1197.0246567091392, 1219.4864580025733, 1241.7600633835482, 1263.8696595222023, 1285.774329871863, 1307.49766831088, 1329.0444488233497, 1350.4195558933247, 1371.6036869943937, 1392.6163295313518, 1413.4602042487104, 1434.126882561261, 1454.6148767013194, 1474.9340599126197, 1495.1008611636696, 1515.0768613258122, 1534.8936699149315, 1554.5537966671466, 1574.0454656622067, 1593.369610565134, 1612.5315119538773, 1631.5469632860163, 1650.3945351835494, 1669.0779913046122, 1687.6222194323814, 1706.0053902423879, 1724.2302570579939, 1742.3020076882797, 1760.2293665435052, 1778.0118990658907, 1795.6322563430003, 1813.1136154168014, 1830.4504115435677, 1847.6422242320386, 1864.6811051270008, 1881.594093959863, 1898.3595240592467, 1914.979160246665, 1931.4609074496418, 1947.811300880362, 1964.025786214768, 1980.0957128627676, 1996.0387331404606, 2011.8495170152735, 2027.525717923528, 2043.0646754243064, 2058.489175166246, 2073.776603931904, 2088.9319171191532, 2103.9624287313463, 2118.8735818692808, 2133.6569996908406, 2148.312015958126, 2162.8509822089363, 2177.26868537447, 2191.5619092066286, 2205.7322933075975, 2219.797927755708, 2233.7364759290867, 2247.555831566478, 2261.2620568757725, 2274.8593578173804, 2288.3373141190737, 2301.6983372633417, 2314.9624241424413, 2328.1065741339366, 2341.1365766503213, 2354.0603691749498, 2366.8794027272565, 2379.5918229260747, 2392.188149513102, 2404.6932394940463, 2417.090906270185, 2429.375766276889, 2441.561654677845, 2453.64756307994, 2465.6352741369683, 2477.5138463360413, 2489.3014210314745, 2500.9899243821246, 2512.577107661815, 2524.065584917488, 2535.460202364205, 2546.7665102326246, 2557.9667613497727, 2569.0776508885006, 2580.097089765916, 2591.0254733897377, 2601.8552044765006, 2612.602765993609, 2623.2591335308252, 2633.822215620822, 2644.296171521994, 2654.685715371502, 2664.9918375892657, 2675.203014424071, 2685.333090562467, 2695.3796243130573, 2705.341705233006, 2715.214795167233, 2725.0137016852095, 2734.728238365714, 2744.3574160316216, 2753.906195199778, 2763.3786497907954, 2772.772587373926, 2782.0795647910245, 2791.318557745768, 2800.478517099099, 2809.55673800422, 2818.5594625182757, 2827.488511580394, 2836.34665924971, 2845.121674169947, 2853.8297671140454, 2862.4682998776825, 2871.026834451812, 2879.514437277082, 2887.9320842636857, 2896.2826922280196, 2904.558372432891, 2912.7663915591215, 2920.907628363103, 2928.979523611557, 2936.981605556436, 2944.9161004917123, 2952.7920496910024, 2960.5933912901755, 2968.330620643043, 2976.0042424716244, 2983.6160561593492, 2991.1590874169947, 2998.6417228938603, 3006.063010836284, 3013.420450313619, 3020.7142612772086, 3027.9476513323525, 3035.1262927914386, 3042.2370151877585, 3049.290004586404, 3056.285097744765, 3063.223147520187, 3070.0982266164774, 3076.919432409782, 3083.6841109194825, 3090.3899420545486, 3097.038171721734, 3103.6321476884636, 3110.1747767652705, 3116.6560160441127, 3123.08510536064, 3129.4614294621424, 3135.7849556640826, 3142.051274752908, 3148.2685510664114, 3154.4369178495676, 3160.5463111961476, 3166.6069757101127, 3172.6178179823305, 3178.579089153696, 3184.487625463739, 3190.3464291584205, 3196.162708811163, 3201.922449165247, 3207.6354159157495, 3213.301961889071, 3218.92127494612, 3224.492360992042, 3230.0145663554385, 3235.496555493407, 3240.9282459340893, 3246.313491098232, 3251.6541696633694, 3256.9520864883, 3262.2040658389774, 3267.41086521403, 3272.575981549154, 3277.6975270559806, 3282.774703859443, 3287.8082002227184, 3292.804650156219, 3297.75476435056, 3302.66304361779, 3307.5309053168658, 3312.3597925731738, 3317.145722691349, 3321.891726082321, 3326.599469855265, 3331.2671742280677, 3335.894183283214, 3340.482168039425, 3345.0359463293016, 3349.5470347368987, 3354.0205638411503, 3358.45739224919, 3362.858470527471, 3367.219807119457, 3371.545693294553, 3375.836428208776, 3380.0902848267096, 3384.3070879419915, 3388.4889291797117, 3392.639002500313, 3396.749436516657, 3400.827030908789, 3404.872009034364, 3408.8819650203195, 3412.857188305331, 3416.798836819205, 3420.7101010364036, 3424.586361400651, 3428.4288513905262, 3432.2424126653937, 3436.0224986622957, 3439.769775737856, 3443.4853923292835, 3447.1711280191203, 3450.8266637910847, 3454.4487848349777, 3458.042106607408, 3461.605458614305, 3465.1387146496254, 3468.640394014041, 3472.116050219345, 3475.561030266963, 3478.9758912408706, 3482.362260783704, 3485.721466239603, 3489.0523914855626, 3492.3535809638793, 3495.6285005547898, 3498.8760349697636, 3502.0956789973675, 3505.2870413731375, 3508.4547465001906, 3511.5939937466837, 3514.7060133386285, 3517.7922675790073, 3520.853851138732, 3523.8889112892593, 3526.8975990394542, 3529.882281422378, 3532.8418742747976, 3535.7757190480484, 3538.684287163692, 3541.5712071314, 3544.431782995026, 3547.2678409340297, 3550.0805612882386, 3552.8707762258055, 3555.6362652647254, 3558.3777725496248, 3561.0992380741354, 3563.7958322532213, 3566.468979847005, 3569.1202297604277, 3571.749867161043, 3574.3574206089174, 3576.9411253518865]}],                        {\"height\": 600, \"shapes\": [{\"type\": \"line\", \"x0\": \"2020-12-14\", \"x1\": \"2020-12-14\", \"xref\": \"x\", \"y0\": 0, \"y1\": 1, \"yref\": \"paper\"}], \"template\": {\"data\": {\"bar\": [{\"error_x\": {\"color\": \"#2a3f5f\"}, \"error_y\": {\"color\": \"#2a3f5f\"}, \"marker\": {\"line\": {\"color\": \"#E5ECF6\", \"width\": 0.5}}, \"type\": \"bar\"}], \"barpolar\": [{\"marker\": {\"line\": {\"color\": \"#E5ECF6\", \"width\": 0.5}}, \"type\": \"barpolar\"}], \"carpet\": [{\"aaxis\": {\"endlinecolor\": \"#2a3f5f\", \"gridcolor\": \"white\", \"linecolor\": \"white\", \"minorgridcolor\": \"white\", \"startlinecolor\": \"#2a3f5f\"}, \"baxis\": {\"endlinecolor\": \"#2a3f5f\", \"gridcolor\": \"white\", \"linecolor\": \"white\", \"minorgridcolor\": \"white\", \"startlinecolor\": \"#2a3f5f\"}, \"type\": \"carpet\"}], \"choropleth\": [{\"colorbar\": {\"outlinewidth\": 0, \"ticks\": \"\"}, \"type\": \"choropleth\"}], \"contour\": [{\"colorbar\": {\"outlinewidth\": 0, \"ticks\": \"\"}, \"colorscale\": [[0.0, \"#0d0887\"], [0.1111111111111111, \"#46039f\"], [0.2222222222222222, \"#7201a8\"], [0.3333333333333333, \"#9c179e\"], [0.4444444444444444, \"#bd3786\"], [0.5555555555555556, \"#d8576b\"], [0.6666666666666666, \"#ed7953\"], [0.7777777777777778, \"#fb9f3a\"], [0.8888888888888888, \"#fdca26\"], [1.0, \"#f0f921\"]], \"type\": \"contour\"}], \"contourcarpet\": [{\"colorbar\": {\"outlinewidth\": 0, \"ticks\": \"\"}, \"type\": \"contourcarpet\"}], \"heatmap\": [{\"colorbar\": {\"outlinewidth\": 0, \"ticks\": \"\"}, \"colorscale\": [[0.0, \"#0d0887\"], [0.1111111111111111, \"#46039f\"], [0.2222222222222222, \"#7201a8\"], [0.3333333333333333, \"#9c179e\"], [0.4444444444444444, \"#bd3786\"], [0.5555555555555556, \"#d8576b\"], [0.6666666666666666, \"#ed7953\"], [0.7777777777777778, \"#fb9f3a\"], [0.8888888888888888, \"#fdca26\"], [1.0, \"#f0f921\"]], \"type\": \"heatmap\"}], \"heatmapgl\": [{\"colorbar\": {\"outlinewidth\": 0, \"ticks\": \"\"}, \"colorscale\": [[0.0, \"#0d0887\"], [0.1111111111111111, \"#46039f\"], [0.2222222222222222, \"#7201a8\"], [0.3333333333333333, \"#9c179e\"], [0.4444444444444444, \"#bd3786\"], [0.5555555555555556, \"#d8576b\"], [0.6666666666666666, \"#ed7953\"], [0.7777777777777778, \"#fb9f3a\"], [0.8888888888888888, \"#fdca26\"], [1.0, \"#f0f921\"]], \"type\": \"heatmapgl\"}], \"histogram\": [{\"marker\": {\"colorbar\": {\"outlinewidth\": 0, \"ticks\": \"\"}}, \"type\": \"histogram\"}], \"histogram2d\": [{\"colorbar\": {\"outlinewidth\": 0, \"ticks\": \"\"}, \"colorscale\": [[0.0, \"#0d0887\"], [0.1111111111111111, \"#46039f\"], [0.2222222222222222, \"#7201a8\"], [0.3333333333333333, \"#9c179e\"], [0.4444444444444444, \"#bd3786\"], [0.5555555555555556, \"#d8576b\"], [0.6666666666666666, \"#ed7953\"], [0.7777777777777778, \"#fb9f3a\"], [0.8888888888888888, \"#fdca26\"], [1.0, \"#f0f921\"]], \"type\": \"histogram2d\"}], \"histogram2dcontour\": [{\"colorbar\": {\"outlinewidth\": 0, \"ticks\": \"\"}, \"colorscale\": [[0.0, \"#0d0887\"], [0.1111111111111111, \"#46039f\"], [0.2222222222222222, \"#7201a8\"], [0.3333333333333333, \"#9c179e\"], [0.4444444444444444, \"#bd3786\"], [0.5555555555555556, \"#d8576b\"], [0.6666666666666666, \"#ed7953\"], [0.7777777777777778, \"#fb9f3a\"], [0.8888888888888888, \"#fdca26\"], [1.0, \"#f0f921\"]], \"type\": \"histogram2dcontour\"}], \"mesh3d\": [{\"colorbar\": {\"outlinewidth\": 0, \"ticks\": \"\"}, \"type\": \"mesh3d\"}], \"parcoords\": [{\"line\": {\"colorbar\": {\"outlinewidth\": 0, \"ticks\": \"\"}}, \"type\": \"parcoords\"}], \"pie\": [{\"automargin\": true, \"type\": \"pie\"}], \"scatter\": [{\"marker\": {\"colorbar\": {\"outlinewidth\": 0, \"ticks\": \"\"}}, \"type\": \"scatter\"}], \"scatter3d\": [{\"line\": {\"colorbar\": {\"outlinewidth\": 0, \"ticks\": \"\"}}, \"marker\": {\"colorbar\": {\"outlinewidth\": 0, \"ticks\": \"\"}}, \"type\": \"scatter3d\"}], \"scattercarpet\": [{\"marker\": {\"colorbar\": {\"outlinewidth\": 0, \"ticks\": \"\"}}, \"type\": \"scattercarpet\"}], \"scattergeo\": [{\"marker\": {\"colorbar\": {\"outlinewidth\": 0, \"ticks\": \"\"}}, \"type\": \"scattergeo\"}], \"scattergl\": [{\"marker\": {\"colorbar\": {\"outlinewidth\": 0, \"ticks\": \"\"}}, \"type\": \"scattergl\"}], \"scattermapbox\": [{\"marker\": {\"colorbar\": {\"outlinewidth\": 0, \"ticks\": \"\"}}, \"type\": \"scattermapbox\"}], \"scatterpolar\": [{\"marker\": {\"colorbar\": {\"outlinewidth\": 0, \"ticks\": \"\"}}, \"type\": \"scatterpolar\"}], \"scatterpolargl\": [{\"marker\": {\"colorbar\": {\"outlinewidth\": 0, \"ticks\": \"\"}}, \"type\": \"scatterpolargl\"}], \"scatterternary\": [{\"marker\": {\"colorbar\": {\"outlinewidth\": 0, \"ticks\": \"\"}}, \"type\": \"scatterternary\"}], \"surface\": [{\"colorbar\": {\"outlinewidth\": 0, \"ticks\": \"\"}, \"colorscale\": [[0.0, \"#0d0887\"], [0.1111111111111111, \"#46039f\"], [0.2222222222222222, \"#7201a8\"], [0.3333333333333333, \"#9c179e\"], [0.4444444444444444, \"#bd3786\"], [0.5555555555555556, \"#d8576b\"], [0.6666666666666666, \"#ed7953\"], [0.7777777777777778, \"#fb9f3a\"], [0.8888888888888888, \"#fdca26\"], [1.0, \"#f0f921\"]], \"type\": \"surface\"}], \"table\": [{\"cells\": {\"fill\": {\"color\": \"#EBF0F8\"}, \"line\": {\"color\": \"white\"}}, \"header\": {\"fill\": {\"color\": \"#C8D4E3\"}, \"line\": {\"color\": \"white\"}}, \"type\": \"table\"}]}, \"layout\": {\"annotationdefaults\": {\"arrowcolor\": \"#2a3f5f\", \"arrowhead\": 0, \"arrowwidth\": 1}, \"coloraxis\": {\"colorbar\": {\"outlinewidth\": 0, \"ticks\": \"\"}}, \"colorscale\": {\"diverging\": [[0, \"#8e0152\"], [0.1, \"#c51b7d\"], [0.2, \"#de77ae\"], [0.3, \"#f1b6da\"], [0.4, \"#fde0ef\"], [0.5, \"#f7f7f7\"], [0.6, \"#e6f5d0\"], [0.7, \"#b8e186\"], [0.8, \"#7fbc41\"], [0.9, \"#4d9221\"], [1, \"#276419\"]], \"sequential\": [[0.0, \"#0d0887\"], [0.1111111111111111, \"#46039f\"], [0.2222222222222222, \"#7201a8\"], [0.3333333333333333, \"#9c179e\"], [0.4444444444444444, \"#bd3786\"], [0.5555555555555556, \"#d8576b\"], [0.6666666666666666, \"#ed7953\"], [0.7777777777777778, \"#fb9f3a\"], [0.8888888888888888, \"#fdca26\"], [1.0, \"#f0f921\"]], \"sequentialminus\": [[0.0, \"#0d0887\"], [0.1111111111111111, \"#46039f\"], [0.2222222222222222, \"#7201a8\"], [0.3333333333333333, \"#9c179e\"], [0.4444444444444444, \"#bd3786\"], [0.5555555555555556, \"#d8576b\"], [0.6666666666666666, \"#ed7953\"], [0.7777777777777778, \"#fb9f3a\"], [0.8888888888888888, \"#fdca26\"], [1.0, \"#f0f921\"]]}, \"colorway\": [\"#636efa\", \"#EF553B\", \"#00cc96\", \"#ab63fa\", \"#FFA15A\", \"#19d3f3\", \"#FF6692\", \"#B6E880\", \"#FF97FF\", \"#FECB52\"], \"font\": {\"color\": \"#2a3f5f\"}, \"geo\": {\"bgcolor\": \"white\", \"lakecolor\": \"white\", \"landcolor\": \"#E5ECF6\", \"showlakes\": true, \"showland\": true, \"subunitcolor\": \"white\"}, \"hoverlabel\": {\"align\": \"left\"}, \"hovermode\": \"closest\", \"mapbox\": {\"style\": \"light\"}, \"paper_bgcolor\": \"white\", \"plot_bgcolor\": \"#E5ECF6\", \"polar\": {\"angularaxis\": {\"gridcolor\": \"white\", \"linecolor\": \"white\", \"ticks\": \"\"}, \"bgcolor\": \"#E5ECF6\", \"radialaxis\": {\"gridcolor\": \"white\", \"linecolor\": \"white\", \"ticks\": \"\"}}, \"scene\": {\"xaxis\": {\"backgroundcolor\": \"#E5ECF6\", \"gridcolor\": \"white\", \"gridwidth\": 2, \"linecolor\": \"white\", \"showbackground\": true, \"ticks\": \"\", \"zerolinecolor\": \"white\"}, \"yaxis\": {\"backgroundcolor\": \"#E5ECF6\", \"gridcolor\": \"white\", \"gridwidth\": 2, \"linecolor\": \"white\", \"showbackground\": true, \"ticks\": \"\", \"zerolinecolor\": \"white\"}, \"zaxis\": {\"backgroundcolor\": \"#E5ECF6\", \"gridcolor\": \"white\", \"gridwidth\": 2, \"linecolor\": \"white\", \"showbackground\": true, \"ticks\": \"\", \"zerolinecolor\": \"white\"}}, \"shapedefaults\": {\"line\": {\"color\": \"#2a3f5f\"}}, \"ternary\": {\"aaxis\": {\"gridcolor\": \"white\", \"linecolor\": \"white\", \"ticks\": \"\"}, \"baxis\": {\"gridcolor\": \"white\", \"linecolor\": \"white\", \"ticks\": \"\"}, \"bgcolor\": \"#E5ECF6\", \"caxis\": {\"gridcolor\": \"white\", \"linecolor\": \"white\", \"ticks\": \"\"}}, \"title\": {\"x\": 0.05}, \"xaxis\": {\"automargin\": true, \"gridcolor\": \"white\", \"linecolor\": \"white\", \"ticks\": \"\", \"title\": {\"standoff\": 15}, \"zerolinecolor\": \"white\", \"zerolinewidth\": 2}, \"yaxis\": {\"automargin\": true, \"gridcolor\": \"white\", \"linecolor\": \"white\", \"ticks\": \"\", \"title\": {\"standoff\": 15}, \"zerolinecolor\": \"white\", \"zerolinewidth\": 2}}}, \"title\": {\"text\": \"COVID-19 mortality in Ontario\"}, \"xaxis\": {\"title\": {\"text\": \"Date\"}}, \"yaxis\": {\"title\": {\"text\": \"Cumulative deaths\"}}},                        {\"responsive\": true}                    ).then(function(){\n",
       "                            \n",
       "var gd = document.getElementById('813f5db5-4ece-40df-b111-e58e0f76e2d7');\n",
       "var x = new MutationObserver(function (mutations, observer) {{\n",
       "        var display = window.getComputedStyle(gd).display;\n",
       "        if (!display || display === 'none') {{\n",
       "            console.log([gd, 'removed!']);\n",
       "            Plotly.purge(gd);\n",
       "            observer.disconnect();\n",
       "        }}\n",
       "}});\n",
       "\n",
       "// Listen for the removal of the full notebook cells\n",
       "var notebookContainer = gd.closest('#notebook-container');\n",
       "if (notebookContainer) {{\n",
       "    x.observe(notebookContainer, {childList: true});\n",
       "}}\n",
       "\n",
       "// Listen for the clearing of the current output cell\n",
       "var outputEl = gd.closest('.output');\n",
       "if (outputEl) {{\n",
       "    x.observe(outputEl, {childList: true});\n",
       "}}\n",
       "\n",
       "                        })                };                });            </script>        </div>"
      ]
     },
     "metadata": {},
     "output_type": "display_data"
    },
    {
     "data": {
      "application/vnd.plotly.v1+json": {
       "config": {
        "plotlyServerURL": "https://plot.ly"
       },
       "data": [
        {
         "marker": {
          "color": "blue"
         },
         "mode": "lines",
         "name": "Actual",
         "type": "scatter",
         "x": [
          "2020-03-08",
          "2020-03-09",
          "2020-03-10",
          "2020-03-11",
          "2020-03-12",
          "2020-03-13",
          "2020-03-14",
          "2020-03-15",
          "2020-03-16",
          "2020-03-17",
          "2020-03-18",
          "2020-03-19",
          "2020-03-20",
          "2020-03-21",
          "2020-03-22",
          "2020-03-23",
          "2020-03-24",
          "2020-03-25",
          "2020-03-26",
          "2020-03-27",
          "2020-03-28",
          "2020-03-29",
          "2020-03-30",
          "2020-03-31",
          "2020-04-01",
          "2020-04-02",
          "2020-04-03",
          "2020-04-04",
          "2020-04-05",
          "2020-04-06",
          "2020-04-07",
          "2020-04-08",
          "2020-04-09",
          "2020-04-10",
          "2020-04-11",
          "2020-04-12",
          "2020-04-13",
          "2020-04-14",
          "2020-04-15",
          "2020-04-16",
          "2020-04-17",
          "2020-04-18",
          "2020-04-19",
          "2020-04-20",
          "2020-04-21",
          "2020-04-22",
          "2020-04-23",
          "2020-04-24",
          "2020-04-25",
          "2020-04-26",
          "2020-04-27",
          "2020-04-28",
          "2020-04-29",
          "2020-04-30",
          "2020-05-01",
          "2020-05-02",
          "2020-05-03",
          "2020-05-04",
          "2020-05-05",
          "2020-05-06",
          "2020-05-07",
          "2020-05-08",
          "2020-05-09",
          "2020-05-10",
          "2020-05-11",
          "2020-05-12",
          "2020-05-13",
          "2020-05-14",
          "2020-05-15",
          "2020-05-16",
          "2020-05-17",
          "2020-05-18",
          "2020-05-19",
          "2020-05-20",
          "2020-05-21",
          "2020-05-22",
          "2020-05-23",
          "2020-05-24",
          "2020-05-25",
          "2020-05-26",
          "2020-05-27",
          "2020-05-28",
          "2020-05-29",
          "2020-05-30",
          "2020-05-31",
          "2020-06-01",
          "2020-06-02",
          "2020-06-03",
          "2020-06-04",
          "2020-06-05",
          "2020-06-06",
          "2020-06-07",
          "2020-06-08",
          "2020-06-09",
          "2020-06-10",
          "2020-06-11",
          "2020-06-12",
          "2020-06-13",
          "2020-06-14",
          "2020-06-15",
          "2020-06-16",
          "2020-06-17",
          "2020-06-18",
          "2020-06-19",
          "2020-06-20",
          "2020-06-21",
          "2020-06-22",
          "2020-06-23",
          "2020-06-24",
          "2020-06-25",
          "2020-06-26",
          "2020-06-27",
          "2020-06-28",
          "2020-06-29",
          "2020-06-30",
          "2020-07-01",
          "2020-07-02",
          "2020-07-03",
          "2020-07-04",
          "2020-07-05",
          "2020-07-06",
          "2020-07-07",
          "2020-07-08",
          "2020-07-09",
          "2020-07-10",
          "2020-07-11",
          "2020-07-12",
          "2020-07-13",
          "2020-07-14",
          "2020-07-15",
          "2020-07-16",
          "2020-07-17",
          "2020-07-18",
          "2020-07-19",
          "2020-07-20",
          "2020-07-21",
          "2020-07-22",
          "2020-07-23",
          "2020-07-24",
          "2020-07-25",
          "2020-07-26",
          "2020-07-27",
          "2020-07-28",
          "2020-07-29",
          "2020-07-30",
          "2020-07-31",
          "2020-08-01",
          "2020-08-02",
          "2020-08-03",
          "2020-08-04",
          "2020-08-05",
          "2020-08-06",
          "2020-08-07",
          "2020-08-08",
          "2020-08-09",
          "2020-08-10",
          "2020-08-11",
          "2020-08-12",
          "2020-08-13",
          "2020-08-14",
          "2020-08-15",
          "2020-08-16",
          "2020-08-17",
          "2020-08-18",
          "2020-08-19",
          "2020-08-20",
          "2020-08-21",
          "2020-08-22",
          "2020-08-23",
          "2020-08-24",
          "2020-08-25",
          "2020-08-26",
          "2020-08-27",
          "2020-08-28",
          "2020-08-29",
          "2020-08-30",
          "2020-08-31",
          "2020-09-01",
          "2020-09-02",
          "2020-09-03",
          "2020-09-04",
          "2020-09-05",
          "2020-09-06",
          "2020-09-07",
          "2020-09-08",
          "2020-09-09",
          "2020-09-10",
          "2020-09-11",
          "2020-09-12",
          "2020-09-13",
          "2020-09-14",
          "2020-09-15",
          "2020-09-16",
          "2020-09-17",
          "2020-09-18",
          "2020-09-19",
          "2020-09-20",
          "2020-09-21",
          "2020-09-22",
          "2020-09-23",
          "2020-09-24",
          "2020-09-25",
          "2020-09-26",
          "2020-09-27",
          "2020-09-28",
          "2020-09-29",
          "2020-09-30",
          "2020-10-01",
          "2020-10-02",
          "2020-10-03",
          "2020-10-04",
          "2020-10-05",
          "2020-10-06",
          "2020-10-07",
          "2020-10-08",
          "2020-10-09",
          "2020-10-10",
          "2020-10-11",
          "2020-10-12",
          "2020-10-13",
          "2020-10-14",
          "2020-10-15",
          "2020-10-16",
          "2020-10-17",
          "2020-10-18",
          "2020-10-19",
          "2020-10-20",
          "2020-10-21",
          "2020-10-22",
          "2020-10-23",
          "2020-10-24",
          "2020-10-25",
          "2020-10-26",
          "2020-10-27",
          "2020-10-28",
          "2020-10-29",
          "2020-10-30",
          "2020-10-31",
          "2020-11-01",
          "2020-11-02",
          "2020-11-03",
          "2020-11-04",
          "2020-11-05",
          "2020-11-06",
          "2020-11-07",
          "2020-11-08",
          "2020-11-09",
          "2020-11-10",
          "2020-11-11",
          "2020-11-12",
          "2020-11-13",
          "2020-11-14",
          "2020-11-15",
          "2020-11-16",
          "2020-11-17",
          "2020-11-18",
          "2020-11-19",
          "2020-11-20",
          "2020-11-21",
          "2020-11-22",
          "2020-11-23",
          "2020-11-24",
          "2020-11-25",
          "2020-11-26",
          "2020-11-27",
          "2020-11-28",
          "2020-11-29",
          "2020-11-30",
          "2020-12-01",
          "2020-12-02",
          "2020-12-03",
          "2020-12-04",
          "2020-12-05",
          "2020-12-06",
          "2020-12-07",
          "2020-12-08",
          "2020-12-09",
          "2020-12-10",
          "2020-12-11",
          "2020-12-12",
          "2020-12-13",
          "2020-12-14",
          "2020-12-15",
          "2020-12-16",
          "2020-12-17",
          "2020-12-18",
          "2020-12-19",
          "2020-12-20",
          "2020-12-21",
          "2020-12-22",
          "2020-12-23",
          "2020-12-24",
          "2020-12-25",
          "2020-12-26",
          "2020-12-27",
          "2020-12-28",
          "2020-12-29",
          "2020-12-30",
          "2020-12-31",
          "2021-01-01",
          "2021-01-02",
          "2021-01-03",
          "2021-01-04"
         ],
         "y": [
          28,
          30,
          32,
          36,
          53,
          73,
          97,
          139,
          171,
          183,
          208,
          251,
          311,
          368,
          411,
          489,
          572,
          666,
          834,
          966,
          1116,
          1323,
          1239,
          1372,
          2089,
          2369,
          2557,
          2666,
          2848,
          3056,
          3397,
          3550,
          3856,
          3959,
          4143,
          4300,
          4528,
          4812,
          4952,
          5126,
          5355,
          5559,
          5725,
          6044,
          6199,
          6436,
          6513,
          6544,
          6502,
          6451,
          6325,
          6296,
          6028,
          5783,
          5654,
          5500,
          5090,
          5014,
          5061,
          5008,
          5095,
          5047,
          4914,
          4822,
          4776,
          4797,
          4668,
          4636,
          4568,
          4528,
          4495,
          4505,
          4732,
          4830,
          4891,
          5108,
          5172,
          5155,
          5324,
          5367,
          5240,
          5294,
          5333,
          5271,
          5174,
          5287,
          5350,
          5357,
          5258,
          5289,
          5139,
          5288,
          5337,
          5267,
          4968,
          4683,
          4583,
          4468,
          4212,
          4158,
          4116,
          3953,
          3917,
          3870,
          3806,
          3707,
          3708,
          3762,
          3721,
          3695,
          3581,
          3558,
          3630,
          3769,
          3768,
          3888,
          3657,
          3640,
          3580,
          3520,
          3544,
          3450,
          3407,
          3354,
          3285,
          3099,
          3052,
          3173,
          3132,
          3092,
          3066,
          3103,
          3169,
          3200,
          3248,
          3340,
          3268,
          3260,
          3328,
          3314,
          3295,
          3342,
          3355,
          3272,
          3206,
          3154,
          3098,
          3049,
          3116,
          2997,
          2925,
          2852,
          2825,
          2793,
          2703,
          2736,
          2751,
          2690,
          2662,
          2681,
          2662,
          2630,
          2678,
          2704,
          2706,
          2726,
          2758,
          2746,
          2729,
          2808,
          2816,
          2825,
          2886,
          2912,
          2922,
          2932,
          3014,
          3056,
          3058,
          3086,
          3097,
          3148,
          3163,
          3346,
          3349,
          3397,
          3417,
          3529,
          3592,
          3690,
          3933,
          4067,
          4237,
          4397,
          4619,
          4821,
          4920,
          5253,
          5571,
          5654,
          5761,
          5976,
          6101,
          6259,
          6694,
          6930,
          7113,
          7177,
          7398,
          7565,
          7515,
          7685,
          7700,
          7635,
          7773,
          7956,
          8114,
          7971,
          8726,
          8350,
          8331,
          8254,
          8431,
          8365,
          8298,
          8459,
          8629,
          8719,
          8860,
          9008,
          9346,
          9547,
          9774,
          9952,
          9972,
          10133,
          10311,
          10369,
          10427,
          10712,
          10973,
          11028,
          11059,
          11167,
          11514,
          11781,
          12466,
          13254,
          13700,
          14341,
          14724,
          15057,
          15318,
          15810,
          16100,
          15862,
          15824,
          15856,
          15975,
          15945,
          15870,
          16165,
          16136,
          16321,
          16689,
          16856,
          16988,
          17462,
          18123,
          18218,
          18198,
          18548,
          18654,
          18981,
          19533,
          19866,
          19857,
          19963,
          19960,
          19778,
          19683,
          20514,
          null,
          null,
          null,
          null,
          null,
          null,
          null,
          null,
          null,
          null,
          null,
          null,
          null,
          null,
          null,
          null,
          null,
          null,
          null,
          null,
          null
         ]
        },
        {
         "line": {
          "dash": "dash"
         },
         "marker": {
          "color": "red"
         },
         "mode": "lines",
         "name": "Predicted",
         "type": "scatter",
         "x": [
          "2020-03-08",
          "2020-03-09",
          "2020-03-10",
          "2020-03-11",
          "2020-03-12",
          "2020-03-13",
          "2020-03-14",
          "2020-03-15",
          "2020-03-16",
          "2020-03-17",
          "2020-03-18",
          "2020-03-19",
          "2020-03-20",
          "2020-03-21",
          "2020-03-22",
          "2020-03-23",
          "2020-03-24",
          "2020-03-25",
          "2020-03-26",
          "2020-03-27",
          "2020-03-28",
          "2020-03-29",
          "2020-03-30",
          "2020-03-31",
          "2020-04-01",
          "2020-04-02",
          "2020-04-03",
          "2020-04-04",
          "2020-04-05",
          "2020-04-06",
          "2020-04-07",
          "2020-04-08",
          "2020-04-09",
          "2020-04-10",
          "2020-04-11",
          "2020-04-12",
          "2020-04-13",
          "2020-04-14",
          "2020-04-15",
          "2020-04-16",
          "2020-04-17",
          "2020-04-18",
          "2020-04-19",
          "2020-04-20",
          "2020-04-21",
          "2020-04-22",
          "2020-04-23",
          "2020-04-24",
          "2020-04-25",
          "2020-04-26",
          "2020-04-27",
          "2020-04-28",
          "2020-04-29",
          "2020-04-30",
          "2020-05-01",
          "2020-05-02",
          "2020-05-03",
          "2020-05-04",
          "2020-05-05",
          "2020-05-06",
          "2020-05-07",
          "2020-05-08",
          "2020-05-09",
          "2020-05-10",
          "2020-05-11",
          "2020-05-12",
          "2020-05-13",
          "2020-05-14",
          "2020-05-15",
          "2020-05-16",
          "2020-05-17",
          "2020-05-18",
          "2020-05-19",
          "2020-05-20",
          "2020-05-21",
          "2020-05-22",
          "2020-05-23",
          "2020-05-24",
          "2020-05-25",
          "2020-05-26",
          "2020-05-27",
          "2020-05-28",
          "2020-05-29",
          "2020-05-30",
          "2020-05-31",
          "2020-06-01",
          "2020-06-02",
          "2020-06-03",
          "2020-06-04",
          "2020-06-05",
          "2020-06-06",
          "2020-06-07",
          "2020-06-08",
          "2020-06-09",
          "2020-06-10",
          "2020-06-11",
          "2020-06-12",
          "2020-06-13",
          "2020-06-14",
          "2020-06-15",
          "2020-06-16",
          "2020-06-17",
          "2020-06-18",
          "2020-06-19",
          "2020-06-20",
          "2020-06-21",
          "2020-06-22",
          "2020-06-23",
          "2020-06-24",
          "2020-06-25",
          "2020-06-26",
          "2020-06-27",
          "2020-06-28",
          "2020-06-29",
          "2020-06-30",
          "2020-07-01",
          "2020-07-02",
          "2020-07-03",
          "2020-07-04",
          "2020-07-05",
          "2020-07-06",
          "2020-07-07",
          "2020-07-08",
          "2020-07-09",
          "2020-07-10",
          "2020-07-11",
          "2020-07-12",
          "2020-07-13",
          "2020-07-14",
          "2020-07-15",
          "2020-07-16",
          "2020-07-17",
          "2020-07-18",
          "2020-07-19",
          "2020-07-20",
          "2020-07-21",
          "2020-07-22",
          "2020-07-23",
          "2020-07-24",
          "2020-07-25",
          "2020-07-26",
          "2020-07-27",
          "2020-07-28",
          "2020-07-29",
          "2020-07-30",
          "2020-07-31",
          "2020-08-01",
          "2020-08-02",
          "2020-08-03",
          "2020-08-04",
          "2020-08-05",
          "2020-08-06",
          "2020-08-07",
          "2020-08-08",
          "2020-08-09",
          "2020-08-10",
          "2020-08-11",
          "2020-08-12",
          "2020-08-13",
          "2020-08-14",
          "2020-08-15",
          "2020-08-16",
          "2020-08-17",
          "2020-08-18",
          "2020-08-19",
          "2020-08-20",
          "2020-08-21",
          "2020-08-22",
          "2020-08-23",
          "2020-08-24",
          "2020-08-25",
          "2020-08-26",
          "2020-08-27",
          "2020-08-28",
          "2020-08-29",
          "2020-08-30",
          "2020-08-31",
          "2020-09-01",
          "2020-09-02",
          "2020-09-03",
          "2020-09-04",
          "2020-09-05",
          "2020-09-06",
          "2020-09-07",
          "2020-09-08",
          "2020-09-09",
          "2020-09-10",
          "2020-09-11",
          "2020-09-12",
          "2020-09-13",
          "2020-09-14",
          "2020-09-15",
          "2020-09-16",
          "2020-09-17",
          "2020-09-18",
          "2020-09-19",
          "2020-09-20",
          "2020-09-21",
          "2020-09-22",
          "2020-09-23",
          "2020-09-24",
          "2020-09-25",
          "2020-09-26",
          "2020-09-27",
          "2020-09-28",
          "2020-09-29",
          "2020-09-30",
          "2020-10-01",
          "2020-10-02",
          "2020-10-03",
          "2020-10-04",
          "2020-10-05",
          "2020-10-06",
          "2020-10-07",
          "2020-10-08",
          "2020-10-09",
          "2020-10-10",
          "2020-10-11",
          "2020-10-12",
          "2020-10-13",
          "2020-10-14",
          "2020-10-15",
          "2020-10-16",
          "2020-10-17",
          "2020-10-18",
          "2020-10-19",
          "2020-10-20",
          "2020-10-21",
          "2020-10-22",
          "2020-10-23",
          "2020-10-24",
          "2020-10-25",
          "2020-10-26",
          "2020-10-27",
          "2020-10-28",
          "2020-10-29",
          "2020-10-30",
          "2020-10-31",
          "2020-11-01",
          "2020-11-02",
          "2020-11-03",
          "2020-11-04",
          "2020-11-05",
          "2020-11-06",
          "2020-11-07",
          "2020-11-08",
          "2020-11-09",
          "2020-11-10",
          "2020-11-11",
          "2020-11-12",
          "2020-11-13",
          "2020-11-14",
          "2020-11-15",
          "2020-11-16",
          "2020-11-17",
          "2020-11-18",
          "2020-11-19",
          "2020-11-20",
          "2020-11-21",
          "2020-11-22",
          "2020-11-23",
          "2020-11-24",
          "2020-11-25",
          "2020-11-26",
          "2020-11-27",
          "2020-11-28",
          "2020-11-29",
          "2020-11-30",
          "2020-12-01",
          "2020-12-02",
          "2020-12-03",
          "2020-12-04",
          "2020-12-05",
          "2020-12-06",
          "2020-12-07",
          "2020-12-08",
          "2020-12-09",
          "2020-12-10",
          "2020-12-11",
          "2020-12-12",
          "2020-12-13",
          "2020-12-14",
          "2020-12-15",
          "2020-12-16",
          "2020-12-17",
          "2020-12-18",
          "2020-12-19",
          "2020-12-20",
          "2020-12-21",
          "2020-12-22",
          "2020-12-23",
          "2020-12-24",
          "2020-12-25",
          "2020-12-26",
          "2020-12-27",
          "2020-12-28",
          "2020-12-29",
          "2020-12-30",
          "2020-12-31",
          "2021-01-01",
          "2021-01-02",
          "2021-01-03",
          "2021-01-04"
         ],
         "y": [
          28,
          32.576341164394236,
          32.7531192352837,
          32.52365025073857,
          32.25817011627735,
          31.980619193950236,
          31.739350697804568,
          31.459399485448138,
          31.178888608605867,
          30.948935742657508,
          30.688044130649512,
          30.42889322969786,
          30.169692680918278,
          29.95407335122383,
          29.665815923209653,
          29.416390587833927,
          29.189142263955688,
          28.960307127158337,
          28.708269359452128,
          28.457339663341017,
          28.243412478175415,
          28.001896782006646,
          27.76176233427082,
          27.532524115238402,
          27.332806878685915,
          27.063859978634124,
          26.84272247186778,
          26.6361292790555,
          26.424059265809717,
          26.18852196327048,
          25.970817412937247,
          25.770047869990027,
          25.54624591737366,
          25.326080962291524,
          25.123113890503667,
          24.93598817459148,
          24.688272822367406,
          24.49244120510027,
          24.30319925250586,
          24.106244213460727,
          23.88794896092534,
          23.69827453236514,
          23.509654029603343,
          23.302748571852092,
          23.102613959414178,
          22.921858213730726,
          22.745914118217136,
          22.519298615216115,
          22.345929407662286,
          22.171715276778663,
          21.98862336152699,
          21.78832086589895,
          21.621677163885174,
          21.444540481760225,
          21.253790090442262,
          21.073580225944685,
          20.911039586565156,
          20.745447028317127,
          20.539999427355617,
          20.39218264379833,
          20.227963147777757,
          20.044542238331115,
          19.874078095900806,
          19.717577856099037,
          19.565377029311154,
          19.382040031236805,
          19.223259322054645,
          19.083006701319913,
          18.903497884701245,
          18.741327456275044,
          18.592864763826597,
          18.448492253222877,
          18.289906733004166,
          18.121209410777173,
          17.98789798202756,
          17.836202885237327,
          17.682715320171898,
          17.5314048538447,
          17.404651974416126,
          17.23913229931078,
          17.090773588967114,
          16.958099662119384,
          16.82457495034422,
          16.676995243181146,
          16.529290390897703,
          16.405398867058476,
          16.264824520272086,
          16.123329659106805,
          15.98934844118001,
          15.872061798944914,
          15.718315033326745,
          15.586107476235744,
          15.465905374632388,
          15.342377912538348,
          15.204754854459077,
          15.07608820909274,
          14.960527102279478,
          14.830321470128467,
          14.700714113909465,
          14.582037695253593,
          14.47271354945853,
          14.33085830813371,
          14.213568013261254,
          14.103889353132274,
          13.989334767790881,
          13.861943125823691,
          13.749551675306392,
          13.64855561540232,
          13.512267298711034,
          13.399274945441599,
          13.297645735933989,
          13.190168195619309,
          13.07549701869262,
          12.960363253805347,
          12.870154626455628,
          12.74615433114387,
          12.630137478260854,
          12.53740666279079,
          12.436183394528165,
          12.3310215616473,
          12.219623117024687,
          12.130832569623216,
          12.022258173429547,
          11.91568845482816,
          11.818630574598764,
          11.726667102382503,
          11.629898094656115,
          11.51668343823722,
          11.432418647202722,
          11.338139471094062,
          11.24086556567618,
          11.141516814209561,
          11.060570398643797,
          10.959519421640872,
          10.862305204436348,
          10.775876240437864,
          10.691858973743559,
          10.600506138035739,
          10.501174465179856,
          10.423851179812274,
          10.336385778922697,
          10.246496017741133,
          10.158135551295075,
          10.084127498520589,
          9.98990639394906,
          9.902098970647915,
          9.824795554200088,
          9.747502904414274,
          9.661885274801774,
          9.574938644036713,
          9.508952549436312,
          9.419059006896635,
          9.333902652415976,
          9.261681238003629,
          9.18867005981875,
          9.111958105916086,
          9.026287554515017,
          8.963133622369,
          8.884308992212969,
          8.79777183067615,
          8.730568313464577,
          8.661969266723604,
          8.591045676649765,
          8.51210350862766,
          8.445897695580525,
          8.376058270385515,
          8.30184641780024,
          8.230930674524945,
          8.165856090801848,
          8.102549178927037,
          8.020236349420106,
          7.959605920186111,
          7.896300975371352,
          7.8304187928069,
          7.75887521187485,
          7.70006030942541,
          7.634737052421389,
          7.566525753159819,
          7.5028296976884,
          7.4443786123635345,
          7.384575475797451,
          7.310777215205858,
          7.256473045444938,
          7.197945914510823,
          7.136812222458379,
          7.07219003187643,
          7.019790784826036,
          6.95852325434839,
          6.896063349588989,
          6.839259575894026,
          6.786218264132496,
          6.729889062510527,
          6.66429192152892,
          6.61514887058746,
          6.5609526010640575,
          6.504319848774644,
          6.44643152644075,
          6.399176729648083,
          6.343645137015269,
          6.280584129158022,
          6.235703132017011,
          6.184970876052572,
          6.13211205206994,
          6.077550089681982,
          6.0300622563081925,
          5.983317835336336,
          5.9206771001913365,
          5.877465170941135,
          5.83076362596153,
          5.780696152889733,
          5.730231010045408,
          5.682773884007327,
          5.640888745621939,
          5.584313179036326,
          5.53868458458473,
          5.49550605402664,
          5.451108644145442,
          5.401996428068126,
          5.35686233615688,
          5.314759914382009,
          5.268026776192788,
          5.2221792197620065,
          5.180057108036575,
          5.1408536498420805,
          5.089194715713743,
          5.0486921491704315,
          5.009181168678577,
          4.968040655395494,
          4.922579314836346,
          4.883385646380913,
          4.843867406259992,
          4.80076391702176,
          4.759248438949259,
          4.721735306630798,
          4.6849338906372475,
          4.637840930977925,
          4.602018782542344,
          4.565685131489143,
          4.527512399019474,
          4.48594135303908,
          4.451508671958999,
          4.4144616100948815,
          4.3748170466108505,
          4.3375473647226,
          4.30381861303785,
          4.269239653439001,
          4.226713842836359,
          4.196235411173151,
          4.161865950946953,
          4.123765264718918,
          4.088525737324341,
          4.056133600905633,
          4.024442517877898,
          3.9863230866247723,
          3.9537654639389266,
          3.924421188950671,
          3.8871004508915017,
          3.8535978215566558,
          3.822936916636099,
          3.7929553561198666,
          3.759939779187546,
          3.725310505458441,
          3.697573753581997,
          3.6660556397901822,
          3.6342457034054387,
          3.6030710170907385,
          3.5767703803486066,
          3.542352054186183,
          3.5118129837076,
          3.4843865959969045,
          3.456679733869973,
          3.426029660028241,
          3.3957523004563024,
          3.3699899178630752,
          3.3408283026947876,
          3.3115668433479297,
          3.284006216838204,
          3.259663354106399,
          3.2277681249991157,
          3.2006258327441572,
          3.175768793475229,
          3.150156455721359,
          3.12164400810279,
          3.0952997607199655,
          3.0712808184905382,
          3.0443132714523333,
          3.0175701404620767,
          2.9931778648794416,
          2.9704915103395226,
          2.9411307930942208,
          2.91709617941061,
          2.894412517245903,
          2.870682031748826,
          2.844355429348783,
          2.821354665471088,
          2.800337855062155,
          2.7721330907896093,
          2.749039442160918,
          2.7280363693867886,
          2.705795405946779,
          2.6820788396141855,
          2.658497883763971,
          2.639826992248825
         ]
        }
       ],
       "layout": {
        "autosize": true,
        "shapes": [
         {
          "type": "line",
          "x0": "2020-12-14",
          "x1": "2020-12-14",
          "xref": "x",
          "y0": 0,
          "y1": 1,
          "yref": "paper"
         }
        ],
        "template": {
         "data": {
          "bar": [
           {
            "error_x": {
             "color": "#2a3f5f"
            },
            "error_y": {
             "color": "#2a3f5f"
            },
            "marker": {
             "line": {
              "color": "#E5ECF6",
              "width": 0.5
             }
            },
            "type": "bar"
           }
          ],
          "barpolar": [
           {
            "marker": {
             "line": {
              "color": "#E5ECF6",
              "width": 0.5
             }
            },
            "type": "barpolar"
           }
          ],
          "carpet": [
           {
            "aaxis": {
             "endlinecolor": "#2a3f5f",
             "gridcolor": "white",
             "linecolor": "white",
             "minorgridcolor": "white",
             "startlinecolor": "#2a3f5f"
            },
            "baxis": {
             "endlinecolor": "#2a3f5f",
             "gridcolor": "white",
             "linecolor": "white",
             "minorgridcolor": "white",
             "startlinecolor": "#2a3f5f"
            },
            "type": "carpet"
           }
          ],
          "choropleth": [
           {
            "colorbar": {
             "outlinewidth": 0,
             "ticks": ""
            },
            "type": "choropleth"
           }
          ],
          "contour": [
           {
            "colorbar": {
             "outlinewidth": 0,
             "ticks": ""
            },
            "colorscale": [
             [
              0,
              "#0d0887"
             ],
             [
              0.1111111111111111,
              "#46039f"
             ],
             [
              0.2222222222222222,
              "#7201a8"
             ],
             [
              0.3333333333333333,
              "#9c179e"
             ],
             [
              0.4444444444444444,
              "#bd3786"
             ],
             [
              0.5555555555555556,
              "#d8576b"
             ],
             [
              0.6666666666666666,
              "#ed7953"
             ],
             [
              0.7777777777777778,
              "#fb9f3a"
             ],
             [
              0.8888888888888888,
              "#fdca26"
             ],
             [
              1,
              "#f0f921"
             ]
            ],
            "type": "contour"
           }
          ],
          "contourcarpet": [
           {
            "colorbar": {
             "outlinewidth": 0,
             "ticks": ""
            },
            "type": "contourcarpet"
           }
          ],
          "heatmap": [
           {
            "colorbar": {
             "outlinewidth": 0,
             "ticks": ""
            },
            "colorscale": [
             [
              0,
              "#0d0887"
             ],
             [
              0.1111111111111111,
              "#46039f"
             ],
             [
              0.2222222222222222,
              "#7201a8"
             ],
             [
              0.3333333333333333,
              "#9c179e"
             ],
             [
              0.4444444444444444,
              "#bd3786"
             ],
             [
              0.5555555555555556,
              "#d8576b"
             ],
             [
              0.6666666666666666,
              "#ed7953"
             ],
             [
              0.7777777777777778,
              "#fb9f3a"
             ],
             [
              0.8888888888888888,
              "#fdca26"
             ],
             [
              1,
              "#f0f921"
             ]
            ],
            "type": "heatmap"
           }
          ],
          "heatmapgl": [
           {
            "colorbar": {
             "outlinewidth": 0,
             "ticks": ""
            },
            "colorscale": [
             [
              0,
              "#0d0887"
             ],
             [
              0.1111111111111111,
              "#46039f"
             ],
             [
              0.2222222222222222,
              "#7201a8"
             ],
             [
              0.3333333333333333,
              "#9c179e"
             ],
             [
              0.4444444444444444,
              "#bd3786"
             ],
             [
              0.5555555555555556,
              "#d8576b"
             ],
             [
              0.6666666666666666,
              "#ed7953"
             ],
             [
              0.7777777777777778,
              "#fb9f3a"
             ],
             [
              0.8888888888888888,
              "#fdca26"
             ],
             [
              1,
              "#f0f921"
             ]
            ],
            "type": "heatmapgl"
           }
          ],
          "histogram": [
           {
            "marker": {
             "colorbar": {
              "outlinewidth": 0,
              "ticks": ""
             }
            },
            "type": "histogram"
           }
          ],
          "histogram2d": [
           {
            "colorbar": {
             "outlinewidth": 0,
             "ticks": ""
            },
            "colorscale": [
             [
              0,
              "#0d0887"
             ],
             [
              0.1111111111111111,
              "#46039f"
             ],
             [
              0.2222222222222222,
              "#7201a8"
             ],
             [
              0.3333333333333333,
              "#9c179e"
             ],
             [
              0.4444444444444444,
              "#bd3786"
             ],
             [
              0.5555555555555556,
              "#d8576b"
             ],
             [
              0.6666666666666666,
              "#ed7953"
             ],
             [
              0.7777777777777778,
              "#fb9f3a"
             ],
             [
              0.8888888888888888,
              "#fdca26"
             ],
             [
              1,
              "#f0f921"
             ]
            ],
            "type": "histogram2d"
           }
          ],
          "histogram2dcontour": [
           {
            "colorbar": {
             "outlinewidth": 0,
             "ticks": ""
            },
            "colorscale": [
             [
              0,
              "#0d0887"
             ],
             [
              0.1111111111111111,
              "#46039f"
             ],
             [
              0.2222222222222222,
              "#7201a8"
             ],
             [
              0.3333333333333333,
              "#9c179e"
             ],
             [
              0.4444444444444444,
              "#bd3786"
             ],
             [
              0.5555555555555556,
              "#d8576b"
             ],
             [
              0.6666666666666666,
              "#ed7953"
             ],
             [
              0.7777777777777778,
              "#fb9f3a"
             ],
             [
              0.8888888888888888,
              "#fdca26"
             ],
             [
              1,
              "#f0f921"
             ]
            ],
            "type": "histogram2dcontour"
           }
          ],
          "mesh3d": [
           {
            "colorbar": {
             "outlinewidth": 0,
             "ticks": ""
            },
            "type": "mesh3d"
           }
          ],
          "parcoords": [
           {
            "line": {
             "colorbar": {
              "outlinewidth": 0,
              "ticks": ""
             }
            },
            "type": "parcoords"
           }
          ],
          "pie": [
           {
            "automargin": true,
            "type": "pie"
           }
          ],
          "scatter": [
           {
            "marker": {
             "colorbar": {
              "outlinewidth": 0,
              "ticks": ""
             }
            },
            "type": "scatter"
           }
          ],
          "scatter3d": [
           {
            "line": {
             "colorbar": {
              "outlinewidth": 0,
              "ticks": ""
             }
            },
            "marker": {
             "colorbar": {
              "outlinewidth": 0,
              "ticks": ""
             }
            },
            "type": "scatter3d"
           }
          ],
          "scattercarpet": [
           {
            "marker": {
             "colorbar": {
              "outlinewidth": 0,
              "ticks": ""
             }
            },
            "type": "scattercarpet"
           }
          ],
          "scattergeo": [
           {
            "marker": {
             "colorbar": {
              "outlinewidth": 0,
              "ticks": ""
             }
            },
            "type": "scattergeo"
           }
          ],
          "scattergl": [
           {
            "marker": {
             "colorbar": {
              "outlinewidth": 0,
              "ticks": ""
             }
            },
            "type": "scattergl"
           }
          ],
          "scattermapbox": [
           {
            "marker": {
             "colorbar": {
              "outlinewidth": 0,
              "ticks": ""
             }
            },
            "type": "scattermapbox"
           }
          ],
          "scatterpolar": [
           {
            "marker": {
             "colorbar": {
              "outlinewidth": 0,
              "ticks": ""
             }
            },
            "type": "scatterpolar"
           }
          ],
          "scatterpolargl": [
           {
            "marker": {
             "colorbar": {
              "outlinewidth": 0,
              "ticks": ""
             }
            },
            "type": "scatterpolargl"
           }
          ],
          "scatterternary": [
           {
            "marker": {
             "colorbar": {
              "outlinewidth": 0,
              "ticks": ""
             }
            },
            "type": "scatterternary"
           }
          ],
          "surface": [
           {
            "colorbar": {
             "outlinewidth": 0,
             "ticks": ""
            },
            "colorscale": [
             [
              0,
              "#0d0887"
             ],
             [
              0.1111111111111111,
              "#46039f"
             ],
             [
              0.2222222222222222,
              "#7201a8"
             ],
             [
              0.3333333333333333,
              "#9c179e"
             ],
             [
              0.4444444444444444,
              "#bd3786"
             ],
             [
              0.5555555555555556,
              "#d8576b"
             ],
             [
              0.6666666666666666,
              "#ed7953"
             ],
             [
              0.7777777777777778,
              "#fb9f3a"
             ],
             [
              0.8888888888888888,
              "#fdca26"
             ],
             [
              1,
              "#f0f921"
             ]
            ],
            "type": "surface"
           }
          ],
          "table": [
           {
            "cells": {
             "fill": {
              "color": "#EBF0F8"
             },
             "line": {
              "color": "white"
             }
            },
            "header": {
             "fill": {
              "color": "#C8D4E3"
             },
             "line": {
              "color": "white"
             }
            },
            "type": "table"
           }
          ]
         },
         "layout": {
          "annotationdefaults": {
           "arrowcolor": "#2a3f5f",
           "arrowhead": 0,
           "arrowwidth": 1
          },
          "coloraxis": {
           "colorbar": {
            "outlinewidth": 0,
            "ticks": ""
           }
          },
          "colorscale": {
           "diverging": [
            [
             0,
             "#8e0152"
            ],
            [
             0.1,
             "#c51b7d"
            ],
            [
             0.2,
             "#de77ae"
            ],
            [
             0.3,
             "#f1b6da"
            ],
            [
             0.4,
             "#fde0ef"
            ],
            [
             0.5,
             "#f7f7f7"
            ],
            [
             0.6,
             "#e6f5d0"
            ],
            [
             0.7,
             "#b8e186"
            ],
            [
             0.8,
             "#7fbc41"
            ],
            [
             0.9,
             "#4d9221"
            ],
            [
             1,
             "#276419"
            ]
           ],
           "sequential": [
            [
             0,
             "#0d0887"
            ],
            [
             0.1111111111111111,
             "#46039f"
            ],
            [
             0.2222222222222222,
             "#7201a8"
            ],
            [
             0.3333333333333333,
             "#9c179e"
            ],
            [
             0.4444444444444444,
             "#bd3786"
            ],
            [
             0.5555555555555556,
             "#d8576b"
            ],
            [
             0.6666666666666666,
             "#ed7953"
            ],
            [
             0.7777777777777778,
             "#fb9f3a"
            ],
            [
             0.8888888888888888,
             "#fdca26"
            ],
            [
             1,
             "#f0f921"
            ]
           ],
           "sequentialminus": [
            [
             0,
             "#0d0887"
            ],
            [
             0.1111111111111111,
             "#46039f"
            ],
            [
             0.2222222222222222,
             "#7201a8"
            ],
            [
             0.3333333333333333,
             "#9c179e"
            ],
            [
             0.4444444444444444,
             "#bd3786"
            ],
            [
             0.5555555555555556,
             "#d8576b"
            ],
            [
             0.6666666666666666,
             "#ed7953"
            ],
            [
             0.7777777777777778,
             "#fb9f3a"
            ],
            [
             0.8888888888888888,
             "#fdca26"
            ],
            [
             1,
             "#f0f921"
            ]
           ]
          },
          "colorway": [
           "#636efa",
           "#EF553B",
           "#00cc96",
           "#ab63fa",
           "#FFA15A",
           "#19d3f3",
           "#FF6692",
           "#B6E880",
           "#FF97FF",
           "#FECB52"
          ],
          "font": {
           "color": "#2a3f5f"
          },
          "geo": {
           "bgcolor": "white",
           "lakecolor": "white",
           "landcolor": "#E5ECF6",
           "showlakes": true,
           "showland": true,
           "subunitcolor": "white"
          },
          "hoverlabel": {
           "align": "left"
          },
          "hovermode": "closest",
          "mapbox": {
           "style": "light"
          },
          "paper_bgcolor": "white",
          "plot_bgcolor": "#E5ECF6",
          "polar": {
           "angularaxis": {
            "gridcolor": "white",
            "linecolor": "white",
            "ticks": ""
           },
           "bgcolor": "#E5ECF6",
           "radialaxis": {
            "gridcolor": "white",
            "linecolor": "white",
            "ticks": ""
           }
          },
          "scene": {
           "xaxis": {
            "backgroundcolor": "#E5ECF6",
            "gridcolor": "white",
            "gridwidth": 2,
            "linecolor": "white",
            "showbackground": true,
            "ticks": "",
            "zerolinecolor": "white"
           },
           "yaxis": {
            "backgroundcolor": "#E5ECF6",
            "gridcolor": "white",
            "gridwidth": 2,
            "linecolor": "white",
            "showbackground": true,
            "ticks": "",
            "zerolinecolor": "white"
           },
           "zaxis": {
            "backgroundcolor": "#E5ECF6",
            "gridcolor": "white",
            "gridwidth": 2,
            "linecolor": "white",
            "showbackground": true,
            "ticks": "",
            "zerolinecolor": "white"
           }
          },
          "shapedefaults": {
           "line": {
            "color": "#2a3f5f"
           }
          },
          "ternary": {
           "aaxis": {
            "gridcolor": "white",
            "linecolor": "white",
            "ticks": ""
           },
           "baxis": {
            "gridcolor": "white",
            "linecolor": "white",
            "ticks": ""
           },
           "bgcolor": "#E5ECF6",
           "caxis": {
            "gridcolor": "white",
            "linecolor": "white",
            "ticks": ""
           }
          },
          "title": {
           "x": 0.05
          },
          "xaxis": {
           "automargin": true,
           "gridcolor": "white",
           "linecolor": "white",
           "ticks": "",
           "title": {
            "standoff": 15
           },
           "zerolinecolor": "white",
           "zerolinewidth": 2
          },
          "yaxis": {
           "automargin": true,
           "gridcolor": "white",
           "linecolor": "white",
           "ticks": "",
           "title": {
            "standoff": 15
           },
           "zerolinecolor": "white",
           "zerolinewidth": 2
          }
         }
        },
        "title": {
         "text": "COVID-19 active cases in Ontario"
        },
        "xaxis": {
         "autorange": true,
         "range": [
          "2020-03-08",
          "2021-01-04"
         ],
         "title": {
          "text": "Date"
         },
         "type": "date"
        },
        "yaxis": {
         "autorange": true,
         "range": [
          -1136.8801826192928,
          21653.52000961154
         ],
         "title": {
          "text": "Active cases"
         },
         "type": "linear"
        }
       }
      },
      "image/png": "[encoded data removed]",
      "text/html": [
       "<div>                            <div id=\"eaa476f7-7aac-46a1-91ac-f8d4211d1a60\" class=\"plotly-graph-div\" style=\"height:600px; width:100%;\"></div>            <script type=\"text/javascript\">                require([\"plotly\"], function(Plotly) {                    window.PLOTLYENV=window.PLOTLYENV || {};                                    if (document.getElementById(\"eaa476f7-7aac-46a1-91ac-f8d4211d1a60\")) {                    Plotly.newPlot(                        \"eaa476f7-7aac-46a1-91ac-f8d4211d1a60\",                        [{\"marker\": {\"color\": \"blue\"}, \"mode\": \"lines\", \"name\": \"Actual\", \"type\": \"scatter\", \"x\": [\"2020-03-08\", \"2020-03-09\", \"2020-03-10\", \"2020-03-11\", \"2020-03-12\", \"2020-03-13\", \"2020-03-14\", \"2020-03-15\", \"2020-03-16\", \"2020-03-17\", \"2020-03-18\", \"2020-03-19\", \"2020-03-20\", \"2020-03-21\", \"2020-03-22\", \"2020-03-23\", \"2020-03-24\", \"2020-03-25\", \"2020-03-26\", \"2020-03-27\", \"2020-03-28\", \"2020-03-29\", \"2020-03-30\", \"2020-03-31\", \"2020-04-01\", \"2020-04-02\", \"2020-04-03\", \"2020-04-04\", \"2020-04-05\", \"2020-04-06\", \"2020-04-07\", \"2020-04-08\", \"2020-04-09\", \"2020-04-10\", \"2020-04-11\", \"2020-04-12\", \"2020-04-13\", \"2020-04-14\", \"2020-04-15\", \"2020-04-16\", \"2020-04-17\", \"2020-04-18\", \"2020-04-19\", \"2020-04-20\", \"2020-04-21\", \"2020-04-22\", \"2020-04-23\", \"2020-04-24\", \"2020-04-25\", \"2020-04-26\", \"2020-04-27\", \"2020-04-28\", \"2020-04-29\", \"2020-04-30\", \"2020-05-01\", \"2020-05-02\", \"2020-05-03\", \"2020-05-04\", \"2020-05-05\", \"2020-05-06\", \"2020-05-07\", \"2020-05-08\", \"2020-05-09\", \"2020-05-10\", \"2020-05-11\", \"2020-05-12\", \"2020-05-13\", \"2020-05-14\", \"2020-05-15\", \"2020-05-16\", \"2020-05-17\", \"2020-05-18\", \"2020-05-19\", \"2020-05-20\", \"2020-05-21\", \"2020-05-22\", \"2020-05-23\", \"2020-05-24\", \"2020-05-25\", \"2020-05-26\", \"2020-05-27\", \"2020-05-28\", \"2020-05-29\", \"2020-05-30\", \"2020-05-31\", \"2020-06-01\", \"2020-06-02\", \"2020-06-03\", \"2020-06-04\", \"2020-06-05\", \"2020-06-06\", \"2020-06-07\", \"2020-06-08\", \"2020-06-09\", \"2020-06-10\", \"2020-06-11\", \"2020-06-12\", \"2020-06-13\", \"2020-06-14\", \"2020-06-15\", \"2020-06-16\", \"2020-06-17\", \"2020-06-18\", \"2020-06-19\", \"2020-06-20\", \"2020-06-21\", \"2020-06-22\", \"2020-06-23\", \"2020-06-24\", \"2020-06-25\", \"2020-06-26\", \"2020-06-27\", \"2020-06-28\", \"2020-06-29\", \"2020-06-30\", \"2020-07-01\", \"2020-07-02\", \"2020-07-03\", \"2020-07-04\", \"2020-07-05\", \"2020-07-06\", \"2020-07-07\", \"2020-07-08\", \"2020-07-09\", \"2020-07-10\", \"2020-07-11\", \"2020-07-12\", \"2020-07-13\", \"2020-07-14\", \"2020-07-15\", \"2020-07-16\", \"2020-07-17\", \"2020-07-18\", \"2020-07-19\", \"2020-07-20\", \"2020-07-21\", \"2020-07-22\", \"2020-07-23\", \"2020-07-24\", \"2020-07-25\", \"2020-07-26\", \"2020-07-27\", \"2020-07-28\", \"2020-07-29\", \"2020-07-30\", \"2020-07-31\", \"2020-08-01\", \"2020-08-02\", \"2020-08-03\", \"2020-08-04\", \"2020-08-05\", \"2020-08-06\", \"2020-08-07\", \"2020-08-08\", \"2020-08-09\", \"2020-08-10\", \"2020-08-11\", \"2020-08-12\", \"2020-08-13\", \"2020-08-14\", \"2020-08-15\", \"2020-08-16\", \"2020-08-17\", \"2020-08-18\", \"2020-08-19\", \"2020-08-20\", \"2020-08-21\", \"2020-08-22\", \"2020-08-23\", \"2020-08-24\", \"2020-08-25\", \"2020-08-26\", \"2020-08-27\", \"2020-08-28\", \"2020-08-29\", \"2020-08-30\", \"2020-08-31\", \"2020-09-01\", \"2020-09-02\", \"2020-09-03\", \"2020-09-04\", \"2020-09-05\", \"2020-09-06\", \"2020-09-07\", \"2020-09-08\", \"2020-09-09\", \"2020-09-10\", \"2020-09-11\", \"2020-09-12\", \"2020-09-13\", \"2020-09-14\", \"2020-09-15\", \"2020-09-16\", \"2020-09-17\", \"2020-09-18\", \"2020-09-19\", \"2020-09-20\", \"2020-09-21\", \"2020-09-22\", \"2020-09-23\", \"2020-09-24\", \"2020-09-25\", \"2020-09-26\", \"2020-09-27\", \"2020-09-28\", \"2020-09-29\", \"2020-09-30\", \"2020-10-01\", \"2020-10-02\", \"2020-10-03\", \"2020-10-04\", \"2020-10-05\", \"2020-10-06\", \"2020-10-07\", \"2020-10-08\", \"2020-10-09\", \"2020-10-10\", \"2020-10-11\", \"2020-10-12\", \"2020-10-13\", \"2020-10-14\", \"2020-10-15\", \"2020-10-16\", \"2020-10-17\", \"2020-10-18\", \"2020-10-19\", \"2020-10-20\", \"2020-10-21\", \"2020-10-22\", \"2020-10-23\", \"2020-10-24\", \"2020-10-25\", \"2020-10-26\", \"2020-10-27\", \"2020-10-28\", \"2020-10-29\", \"2020-10-30\", \"2020-10-31\", \"2020-11-01\", \"2020-11-02\", \"2020-11-03\", \"2020-11-04\", \"2020-11-05\", \"2020-11-06\", \"2020-11-07\", \"2020-11-08\", \"2020-11-09\", \"2020-11-10\", \"2020-11-11\", \"2020-11-12\", \"2020-11-13\", \"2020-11-14\", \"2020-11-15\", \"2020-11-16\", \"2020-11-17\", \"2020-11-18\", \"2020-11-19\", \"2020-11-20\", \"2020-11-21\", \"2020-11-22\", \"2020-11-23\", \"2020-11-24\", \"2020-11-25\", \"2020-11-26\", \"2020-11-27\", \"2020-11-28\", \"2020-11-29\", \"2020-11-30\", \"2020-12-01\", \"2020-12-02\", \"2020-12-03\", \"2020-12-04\", \"2020-12-05\", \"2020-12-06\", \"2020-12-07\", \"2020-12-08\", \"2020-12-09\", \"2020-12-10\", \"2020-12-11\", \"2020-12-12\", \"2020-12-13\", \"2020-12-14\", \"2020-12-15\", \"2020-12-16\", \"2020-12-17\", \"2020-12-18\", \"2020-12-19\", \"2020-12-20\", \"2020-12-21\", \"2020-12-22\", \"2020-12-23\", \"2020-12-24\", \"2020-12-25\", \"2020-12-26\", \"2020-12-27\", \"2020-12-28\", \"2020-12-29\", \"2020-12-30\", \"2020-12-31\", \"2021-01-01\", \"2021-01-02\", \"2021-01-03\", \"2021-01-04\"], \"y\": [28.0, 30.0, 32.0, 36.0, 53.0, 73.0, 97.0, 139.0, 171.0, 183.0, 208.0, 251.0, 311.0, 368.0, 411.0, 489.0, 572.0, 666.0, 834.0, 966.0, 1116.0, 1323.0, 1239.0, 1372.0, 2089.0, 2369.0, 2557.0, 2666.0, 2848.0, 3056.0, 3397.0, 3550.0, 3856.0, 3959.0, 4143.0, 4300.0, 4528.0, 4812.0, 4952.0, 5126.0, 5355.0, 5559.0, 5725.0, 6044.0, 6199.0, 6436.0, 6513.0, 6544.0, 6502.0, 6451.0, 6325.0, 6296.0, 6028.0, 5783.0, 5654.0, 5500.0, 5090.0, 5014.0, 5061.0, 5008.0, 5095.0, 5047.0, 4914.0, 4822.0, 4776.0, 4797.0, 4668.0, 4636.0, 4568.0, 4528.0, 4495.0, 4505.0, 4732.0, 4830.0, 4891.0, 5108.0, 5172.0, 5155.0, 5324.0, 5367.0, 5240.0, 5294.0, 5333.0, 5271.0, 5174.0, 5287.0, 5350.0, 5357.0, 5258.0, 5289.0, 5139.0, 5288.0, 5337.0, 5267.0, 4968.0, 4683.0, 4583.0, 4468.0, 4212.0, 4158.0, 4116.0, 3953.0, 3917.0, 3870.0, 3806.0, 3707.0, 3708.0, 3762.0, 3721.0, 3695.0, 3581.0, 3558.0, 3630.0, 3769.0, 3768.0, 3888.0, 3657.0, 3640.0, 3580.0, 3520.0, 3544.0, 3450.0, 3407.0, 3354.0, 3285.0, 3099.0, 3052.0, 3173.0, 3132.0, 3092.0, 3066.0, 3103.0, 3169.0, 3200.0, 3248.0, 3340.0, 3268.0, 3260.0, 3328.0, 3314.0, 3295.0, 3342.0, 3355.0, 3272.0, 3206.0, 3154.0, 3098.0, 3049.0, 3116.0, 2997.0, 2925.0, 2852.0, 2825.0, 2793.0, 2703.0, 2736.0, 2751.0, 2690.0, 2662.0, 2681.0, 2662.0, 2630.0, 2678.0, 2704.0, 2706.0, 2726.0, 2758.0, 2746.0, 2729.0, 2808.0, 2816.0, 2825.0, 2886.0, 2912.0, 2922.0, 2932.0, 3014.0, 3056.0, 3058.0, 3086.0, 3097.0, 3148.0, 3163.0, 3346.0, 3349.0, 3397.0, 3417.0, 3529.0, 3592.0, 3690.0, 3933.0, 4067.0, 4237.0, 4397.0, 4619.0, 4821.0, 4920.0, 5253.0, 5571.0, 5654.0, 5761.0, 5976.0, 6101.0, 6259.0, 6694.0, 6930.0, 7113.0, 7177.0, 7398.0, 7565.0, 7515.0, 7685.0, 7700.0, 7635.0, 7773.0, 7956.0, 8114.0, 7971.0, 8726.0, 8350.0, 8331.0, 8254.0, 8431.0, 8365.0, 8298.0, 8459.0, 8629.0, 8719.0, 8860.0, 9008.0, 9346.0, 9547.0, 9774.0, 9952.0, 9972.0, 10133.0, 10311.0, 10369.0, 10427.0, 10712.0, 10973.0, 11028.0, 11059.0, 11167.0, 11514.0, 11781.0, 12466.0, 13254.0, 13700.0, 14341.0, 14724.0, 15057.0, 15318.0, 15810.0, 16100.0, 15862.0, 15824.0, 15856.0, 15975.0, 15945.0, 15870.0, 16165.0, 16136.0, 16321.0, 16689.0, 16856.0, 16988.0, 17462.0, 18123.0, 18218.0, 18198.0, 18548.0, 18654.0, 18981.0, 19533.0, 19866.0, 19857.0, 19963.0, 19960.0, 19778.0, 19683.0, 20514.0, null, null, null, null, null, null, null, null, null, null, null, null, null, null, null, null, null, null, null, null, null]}, {\"line\": {\"dash\": \"dash\"}, \"marker\": {\"color\": \"red\"}, \"mode\": \"lines\", \"name\": \"Predicted\", \"type\": \"scatter\", \"x\": [\"2020-03-08\", \"2020-03-09\", \"2020-03-10\", \"2020-03-11\", \"2020-03-12\", \"2020-03-13\", \"2020-03-14\", \"2020-03-15\", \"2020-03-16\", \"2020-03-17\", \"2020-03-18\", \"2020-03-19\", \"2020-03-20\", \"2020-03-21\", \"2020-03-22\", \"2020-03-23\", \"2020-03-24\", \"2020-03-25\", \"2020-03-26\", \"2020-03-27\", \"2020-03-28\", \"2020-03-29\", \"2020-03-30\", \"2020-03-31\", \"2020-04-01\", \"2020-04-02\", \"2020-04-03\", \"2020-04-04\", \"2020-04-05\", \"2020-04-06\", \"2020-04-07\", \"2020-04-08\", \"2020-04-09\", \"2020-04-10\", \"2020-04-11\", \"2020-04-12\", \"2020-04-13\", \"2020-04-14\", \"2020-04-15\", \"2020-04-16\", \"2020-04-17\", \"2020-04-18\", \"2020-04-19\", \"2020-04-20\", \"2020-04-21\", \"2020-04-22\", \"2020-04-23\", \"2020-04-24\", \"2020-04-25\", \"2020-04-26\", \"2020-04-27\", \"2020-04-28\", \"2020-04-29\", \"2020-04-30\", \"2020-05-01\", \"2020-05-02\", \"2020-05-03\", \"2020-05-04\", \"2020-05-05\", \"2020-05-06\", \"2020-05-07\", \"2020-05-08\", \"2020-05-09\", \"2020-05-10\", \"2020-05-11\", \"2020-05-12\", \"2020-05-13\", \"2020-05-14\", \"2020-05-15\", \"2020-05-16\", \"2020-05-17\", \"2020-05-18\", \"2020-05-19\", \"2020-05-20\", \"2020-05-21\", \"2020-05-22\", \"2020-05-23\", \"2020-05-24\", \"2020-05-25\", \"2020-05-26\", \"2020-05-27\", \"2020-05-28\", \"2020-05-29\", \"2020-05-30\", \"2020-05-31\", \"2020-06-01\", \"2020-06-02\", \"2020-06-03\", \"2020-06-04\", \"2020-06-05\", \"2020-06-06\", \"2020-06-07\", \"2020-06-08\", \"2020-06-09\", \"2020-06-10\", \"2020-06-11\", \"2020-06-12\", \"2020-06-13\", \"2020-06-14\", \"2020-06-15\", \"2020-06-16\", \"2020-06-17\", \"2020-06-18\", \"2020-06-19\", \"2020-06-20\", \"2020-06-21\", \"2020-06-22\", \"2020-06-23\", \"2020-06-24\", \"2020-06-25\", \"2020-06-26\", \"2020-06-27\", \"2020-06-28\", \"2020-06-29\", \"2020-06-30\", \"2020-07-01\", \"2020-07-02\", \"2020-07-03\", \"2020-07-04\", \"2020-07-05\", \"2020-07-06\", \"2020-07-07\", \"2020-07-08\", \"2020-07-09\", \"2020-07-10\", \"2020-07-11\", \"2020-07-12\", \"2020-07-13\", \"2020-07-14\", \"2020-07-15\", \"2020-07-16\", \"2020-07-17\", \"2020-07-18\", \"2020-07-19\", \"2020-07-20\", \"2020-07-21\", \"2020-07-22\", \"2020-07-23\", \"2020-07-24\", \"2020-07-25\", \"2020-07-26\", \"2020-07-27\", \"2020-07-28\", \"2020-07-29\", \"2020-07-30\", \"2020-07-31\", \"2020-08-01\", \"2020-08-02\", \"2020-08-03\", \"2020-08-04\", \"2020-08-05\", \"2020-08-06\", \"2020-08-07\", \"2020-08-08\", \"2020-08-09\", \"2020-08-10\", \"2020-08-11\", \"2020-08-12\", \"2020-08-13\", \"2020-08-14\", \"2020-08-15\", \"2020-08-16\", \"2020-08-17\", \"2020-08-18\", \"2020-08-19\", \"2020-08-20\", \"2020-08-21\", \"2020-08-22\", \"2020-08-23\", \"2020-08-24\", \"2020-08-25\", \"2020-08-26\", \"2020-08-27\", \"2020-08-28\", \"2020-08-29\", \"2020-08-30\", \"2020-08-31\", \"2020-09-01\", \"2020-09-02\", \"2020-09-03\", \"2020-09-04\", \"2020-09-05\", \"2020-09-06\", \"2020-09-07\", \"2020-09-08\", \"2020-09-09\", \"2020-09-10\", \"2020-09-11\", \"2020-09-12\", \"2020-09-13\", \"2020-09-14\", \"2020-09-15\", \"2020-09-16\", \"2020-09-17\", \"2020-09-18\", \"2020-09-19\", \"2020-09-20\", \"2020-09-21\", \"2020-09-22\", \"2020-09-23\", \"2020-09-24\", \"2020-09-25\", \"2020-09-26\", \"2020-09-27\", \"2020-09-28\", \"2020-09-29\", \"2020-09-30\", \"2020-10-01\", \"2020-10-02\", \"2020-10-03\", \"2020-10-04\", \"2020-10-05\", \"2020-10-06\", \"2020-10-07\", \"2020-10-08\", \"2020-10-09\", \"2020-10-10\", \"2020-10-11\", \"2020-10-12\", \"2020-10-13\", \"2020-10-14\", \"2020-10-15\", \"2020-10-16\", \"2020-10-17\", \"2020-10-18\", \"2020-10-19\", \"2020-10-20\", \"2020-10-21\", \"2020-10-22\", \"2020-10-23\", \"2020-10-24\", \"2020-10-25\", \"2020-10-26\", \"2020-10-27\", \"2020-10-28\", \"2020-10-29\", \"2020-10-30\", \"2020-10-31\", \"2020-11-01\", \"2020-11-02\", \"2020-11-03\", \"2020-11-04\", \"2020-11-05\", \"2020-11-06\", \"2020-11-07\", \"2020-11-08\", \"2020-11-09\", \"2020-11-10\", \"2020-11-11\", \"2020-11-12\", \"2020-11-13\", \"2020-11-14\", \"2020-11-15\", \"2020-11-16\", \"2020-11-17\", \"2020-11-18\", \"2020-11-19\", \"2020-11-20\", \"2020-11-21\", \"2020-11-22\", \"2020-11-23\", \"2020-11-24\", \"2020-11-25\", \"2020-11-26\", \"2020-11-27\", \"2020-11-28\", \"2020-11-29\", \"2020-11-30\", \"2020-12-01\", \"2020-12-02\", \"2020-12-03\", \"2020-12-04\", \"2020-12-05\", \"2020-12-06\", \"2020-12-07\", \"2020-12-08\", \"2020-12-09\", \"2020-12-10\", \"2020-12-11\", \"2020-12-12\", \"2020-12-13\", \"2020-12-14\", \"2020-12-15\", \"2020-12-16\", \"2020-12-17\", \"2020-12-18\", \"2020-12-19\", \"2020-12-20\", \"2020-12-21\", \"2020-12-22\", \"2020-12-23\", \"2020-12-24\", \"2020-12-25\", \"2020-12-26\", \"2020-12-27\", \"2020-12-28\", \"2020-12-29\", \"2020-12-30\", \"2020-12-31\", \"2021-01-01\", \"2021-01-02\", \"2021-01-03\", \"2021-01-04\"], \"y\": [28.0, 32.576341164394236, 32.7531192352837, 32.52365025073857, 32.25817011627735, 31.980619193950236, 31.739350697804568, 31.459399485448138, 31.178888608605867, 30.948935742657508, 30.688044130649512, 30.42889322969786, 30.169692680918278, 29.95407335122383, 29.665815923209653, 29.416390587833927, 29.189142263955688, 28.960307127158337, 28.708269359452128, 28.457339663341017, 28.243412478175415, 28.001896782006646, 27.76176233427082, 27.532524115238402, 27.332806878685915, 27.063859978634124, 26.84272247186778, 26.6361292790555, 26.424059265809717, 26.18852196327048, 25.970817412937247, 25.770047869990027, 25.54624591737366, 25.326080962291524, 25.123113890503667, 24.93598817459148, 24.688272822367406, 24.49244120510027, 24.30319925250586, 24.106244213460727, 23.88794896092534, 23.69827453236514, 23.509654029603343, 23.302748571852092, 23.102613959414178, 22.921858213730726, 22.745914118217136, 22.519298615216115, 22.345929407662286, 22.171715276778663, 21.98862336152699, 21.78832086589895, 21.621677163885174, 21.444540481760225, 21.253790090442262, 21.073580225944685, 20.911039586565156, 20.745447028317127, 20.539999427355617, 20.39218264379833, 20.227963147777757, 20.044542238331115, 19.874078095900806, 19.717577856099037, 19.565377029311154, 19.382040031236805, 19.223259322054645, 19.083006701319913, 18.903497884701245, 18.741327456275044, 18.592864763826597, 18.448492253222877, 18.289906733004166, 18.121209410777173, 17.98789798202756, 17.836202885237327, 17.682715320171898, 17.5314048538447, 17.404651974416126, 17.23913229931078, 17.090773588967114, 16.958099662119384, 16.82457495034422, 16.676995243181146, 16.529290390897703, 16.405398867058476, 16.264824520272086, 16.123329659106805, 15.98934844118001, 15.872061798944914, 15.718315033326745, 15.586107476235744, 15.465905374632388, 15.342377912538348, 15.204754854459077, 15.07608820909274, 14.960527102279478, 14.830321470128467, 14.700714113909465, 14.582037695253593, 14.47271354945853, 14.33085830813371, 14.213568013261254, 14.103889353132274, 13.989334767790881, 13.861943125823691, 13.749551675306392, 13.64855561540232, 13.512267298711034, 13.399274945441599, 13.297645735933989, 13.190168195619309, 13.07549701869262, 12.960363253805347, 12.870154626455628, 12.74615433114387, 12.630137478260854, 12.53740666279079, 12.436183394528165, 12.3310215616473, 12.219623117024687, 12.130832569623216, 12.022258173429547, 11.91568845482816, 11.818630574598764, 11.726667102382503, 11.629898094656115, 11.51668343823722, 11.432418647202722, 11.338139471094062, 11.24086556567618, 11.141516814209561, 11.060570398643797, 10.959519421640872, 10.862305204436348, 10.775876240437864, 10.691858973743559, 10.600506138035739, 10.501174465179856, 10.423851179812274, 10.336385778922697, 10.246496017741133, 10.158135551295075, 10.084127498520589, 9.98990639394906, 9.902098970647915, 9.824795554200088, 9.747502904414274, 9.661885274801774, 9.574938644036713, 9.508952549436312, 9.419059006896635, 9.333902652415976, 9.261681238003629, 9.18867005981875, 9.111958105916086, 9.026287554515017, 8.963133622369, 8.884308992212969, 8.79777183067615, 8.730568313464577, 8.661969266723604, 8.591045676649765, 8.51210350862766, 8.445897695580525, 8.376058270385515, 8.30184641780024, 8.230930674524945, 8.165856090801848, 8.102549178927037, 8.020236349420106, 7.959605920186111, 7.896300975371352, 7.8304187928069, 7.75887521187485, 7.70006030942541, 7.634737052421389, 7.566525753159819, 7.5028296976884, 7.4443786123635345, 7.384575475797451, 7.310777215205858, 7.256473045444938, 7.197945914510823, 7.136812222458379, 7.07219003187643, 7.019790784826036, 6.95852325434839, 6.896063349588989, 6.839259575894026, 6.786218264132496, 6.729889062510527, 6.66429192152892, 6.61514887058746, 6.5609526010640575, 6.504319848774644, 6.44643152644075, 6.399176729648083, 6.343645137015269, 6.280584129158022, 6.235703132017011, 6.184970876052572, 6.13211205206994, 6.077550089681982, 6.0300622563081925, 5.983317835336336, 5.9206771001913365, 5.877465170941135, 5.83076362596153, 5.780696152889733, 5.730231010045408, 5.682773884007327, 5.640888745621939, 5.584313179036326, 5.53868458458473, 5.49550605402664, 5.451108644145442, 5.401996428068126, 5.35686233615688, 5.314759914382009, 5.268026776192788, 5.2221792197620065, 5.180057108036575, 5.1408536498420805, 5.089194715713743, 5.0486921491704315, 5.009181168678577, 4.968040655395494, 4.922579314836346, 4.883385646380913, 4.843867406259992, 4.80076391702176, 4.759248438949259, 4.721735306630798, 4.6849338906372475, 4.637840930977925, 4.602018782542344, 4.565685131489143, 4.527512399019474, 4.48594135303908, 4.451508671958999, 4.4144616100948815, 4.3748170466108505, 4.3375473647226, 4.30381861303785, 4.269239653439001, 4.226713842836359, 4.196235411173151, 4.161865950946953, 4.123765264718918, 4.088525737324341, 4.056133600905633, 4.024442517877898, 3.9863230866247723, 3.9537654639389266, 3.924421188950671, 3.8871004508915017, 3.8535978215566558, 3.822936916636099, 3.7929553561198666, 3.759939779187546, 3.725310505458441, 3.697573753581997, 3.6660556397901822, 3.6342457034054387, 3.6030710170907385, 3.5767703803486066, 3.542352054186183, 3.5118129837076, 3.4843865959969045, 3.456679733869973, 3.426029660028241, 3.3957523004563024, 3.3699899178630752, 3.3408283026947876, 3.3115668433479297, 3.284006216838204, 3.259663354106399, 3.2277681249991157, 3.2006258327441572, 3.175768793475229, 3.150156455721359, 3.12164400810279, 3.0952997607199655, 3.0712808184905382, 3.0443132714523333, 3.0175701404620767, 2.9931778648794416, 2.9704915103395226, 2.9411307930942208, 2.91709617941061, 2.894412517245903, 2.870682031748826, 2.844355429348783, 2.821354665471088, 2.800337855062155, 2.7721330907896093, 2.749039442160918, 2.7280363693867886, 2.705795405946779, 2.6820788396141855, 2.658497883763971, 2.639826992248825]}],                        {\"height\": 600, \"shapes\": [{\"type\": \"line\", \"x0\": \"2020-12-14\", \"x1\": \"2020-12-14\", \"xref\": \"x\", \"y0\": 0, \"y1\": 1, \"yref\": \"paper\"}], \"template\": {\"data\": {\"bar\": [{\"error_x\": {\"color\": \"#2a3f5f\"}, \"error_y\": {\"color\": \"#2a3f5f\"}, \"marker\": {\"line\": {\"color\": \"#E5ECF6\", \"width\": 0.5}}, \"type\": \"bar\"}], \"barpolar\": [{\"marker\": {\"line\": {\"color\": \"#E5ECF6\", \"width\": 0.5}}, \"type\": \"barpolar\"}], \"carpet\": [{\"aaxis\": {\"endlinecolor\": \"#2a3f5f\", \"gridcolor\": \"white\", \"linecolor\": \"white\", \"minorgridcolor\": \"white\", \"startlinecolor\": \"#2a3f5f\"}, \"baxis\": {\"endlinecolor\": \"#2a3f5f\", \"gridcolor\": \"white\", \"linecolor\": \"white\", \"minorgridcolor\": \"white\", \"startlinecolor\": \"#2a3f5f\"}, \"type\": \"carpet\"}], \"choropleth\": [{\"colorbar\": {\"outlinewidth\": 0, \"ticks\": \"\"}, \"type\": \"choropleth\"}], \"contour\": [{\"colorbar\": {\"outlinewidth\": 0, \"ticks\": \"\"}, \"colorscale\": [[0.0, \"#0d0887\"], [0.1111111111111111, \"#46039f\"], [0.2222222222222222, \"#7201a8\"], [0.3333333333333333, \"#9c179e\"], [0.4444444444444444, \"#bd3786\"], [0.5555555555555556, \"#d8576b\"], [0.6666666666666666, \"#ed7953\"], [0.7777777777777778, \"#fb9f3a\"], [0.8888888888888888, \"#fdca26\"], [1.0, \"#f0f921\"]], \"type\": \"contour\"}], \"contourcarpet\": [{\"colorbar\": {\"outlinewidth\": 0, \"ticks\": \"\"}, \"type\": \"contourcarpet\"}], \"heatmap\": [{\"colorbar\": {\"outlinewidth\": 0, \"ticks\": \"\"}, \"colorscale\": [[0.0, \"#0d0887\"], [0.1111111111111111, \"#46039f\"], [0.2222222222222222, \"#7201a8\"], [0.3333333333333333, \"#9c179e\"], [0.4444444444444444, \"#bd3786\"], [0.5555555555555556, \"#d8576b\"], [0.6666666666666666, \"#ed7953\"], [0.7777777777777778, \"#fb9f3a\"], [0.8888888888888888, \"#fdca26\"], [1.0, \"#f0f921\"]], \"type\": \"heatmap\"}], \"heatmapgl\": [{\"colorbar\": {\"outlinewidth\": 0, \"ticks\": \"\"}, \"colorscale\": [[0.0, \"#0d0887\"], [0.1111111111111111, \"#46039f\"], [0.2222222222222222, \"#7201a8\"], [0.3333333333333333, \"#9c179e\"], [0.4444444444444444, \"#bd3786\"], [0.5555555555555556, \"#d8576b\"], [0.6666666666666666, \"#ed7953\"], [0.7777777777777778, \"#fb9f3a\"], [0.8888888888888888, \"#fdca26\"], [1.0, \"#f0f921\"]], \"type\": \"heatmapgl\"}], \"histogram\": [{\"marker\": {\"colorbar\": {\"outlinewidth\": 0, \"ticks\": \"\"}}, \"type\": \"histogram\"}], \"histogram2d\": [{\"colorbar\": {\"outlinewidth\": 0, \"ticks\": \"\"}, \"colorscale\": [[0.0, \"#0d0887\"], [0.1111111111111111, \"#46039f\"], [0.2222222222222222, \"#7201a8\"], [0.3333333333333333, \"#9c179e\"], [0.4444444444444444, \"#bd3786\"], [0.5555555555555556, \"#d8576b\"], [0.6666666666666666, \"#ed7953\"], [0.7777777777777778, \"#fb9f3a\"], [0.8888888888888888, \"#fdca26\"], [1.0, \"#f0f921\"]], \"type\": \"histogram2d\"}], \"histogram2dcontour\": [{\"colorbar\": {\"outlinewidth\": 0, \"ticks\": \"\"}, \"colorscale\": [[0.0, \"#0d0887\"], [0.1111111111111111, \"#46039f\"], [0.2222222222222222, \"#7201a8\"], [0.3333333333333333, \"#9c179e\"], [0.4444444444444444, \"#bd3786\"], [0.5555555555555556, \"#d8576b\"], [0.6666666666666666, \"#ed7953\"], [0.7777777777777778, \"#fb9f3a\"], [0.8888888888888888, \"#fdca26\"], [1.0, \"#f0f921\"]], \"type\": \"histogram2dcontour\"}], \"mesh3d\": [{\"colorbar\": {\"outlinewidth\": 0, \"ticks\": \"\"}, \"type\": \"mesh3d\"}], \"parcoords\": [{\"line\": {\"colorbar\": {\"outlinewidth\": 0, \"ticks\": \"\"}}, \"type\": \"parcoords\"}], \"pie\": [{\"automargin\": true, \"type\": \"pie\"}], \"scatter\": [{\"marker\": {\"colorbar\": {\"outlinewidth\": 0, \"ticks\": \"\"}}, \"type\": \"scatter\"}], \"scatter3d\": [{\"line\": {\"colorbar\": {\"outlinewidth\": 0, \"ticks\": \"\"}}, \"marker\": {\"colorbar\": {\"outlinewidth\": 0, \"ticks\": \"\"}}, \"type\": \"scatter3d\"}], \"scattercarpet\": [{\"marker\": {\"colorbar\": {\"outlinewidth\": 0, \"ticks\": \"\"}}, \"type\": \"scattercarpet\"}], \"scattergeo\": [{\"marker\": {\"colorbar\": {\"outlinewidth\": 0, \"ticks\": \"\"}}, \"type\": \"scattergeo\"}], \"scattergl\": [{\"marker\": {\"colorbar\": {\"outlinewidth\": 0, \"ticks\": \"\"}}, \"type\": \"scattergl\"}], \"scattermapbox\": [{\"marker\": {\"colorbar\": {\"outlinewidth\": 0, \"ticks\": \"\"}}, \"type\": \"scattermapbox\"}], \"scatterpolar\": [{\"marker\": {\"colorbar\": {\"outlinewidth\": 0, \"ticks\": \"\"}}, \"type\": \"scatterpolar\"}], \"scatterpolargl\": [{\"marker\": {\"colorbar\": {\"outlinewidth\": 0, \"ticks\": \"\"}}, \"type\": \"scatterpolargl\"}], \"scatterternary\": [{\"marker\": {\"colorbar\": {\"outlinewidth\": 0, \"ticks\": \"\"}}, \"type\": \"scatterternary\"}], \"surface\": [{\"colorbar\": {\"outlinewidth\": 0, \"ticks\": \"\"}, \"colorscale\": [[0.0, \"#0d0887\"], [0.1111111111111111, \"#46039f\"], [0.2222222222222222, \"#7201a8\"], [0.3333333333333333, \"#9c179e\"], [0.4444444444444444, \"#bd3786\"], [0.5555555555555556, \"#d8576b\"], [0.6666666666666666, \"#ed7953\"], [0.7777777777777778, \"#fb9f3a\"], [0.8888888888888888, \"#fdca26\"], [1.0, \"#f0f921\"]], \"type\": \"surface\"}], \"table\": [{\"cells\": {\"fill\": {\"color\": \"#EBF0F8\"}, \"line\": {\"color\": \"white\"}}, \"header\": {\"fill\": {\"color\": \"#C8D4E3\"}, \"line\": {\"color\": \"white\"}}, \"type\": \"table\"}]}, \"layout\": {\"annotationdefaults\": {\"arrowcolor\": \"#2a3f5f\", \"arrowhead\": 0, \"arrowwidth\": 1}, \"coloraxis\": {\"colorbar\": {\"outlinewidth\": 0, \"ticks\": \"\"}}, \"colorscale\": {\"diverging\": [[0, \"#8e0152\"], [0.1, \"#c51b7d\"], [0.2, \"#de77ae\"], [0.3, \"#f1b6da\"], [0.4, \"#fde0ef\"], [0.5, \"#f7f7f7\"], [0.6, \"#e6f5d0\"], [0.7, \"#b8e186\"], [0.8, \"#7fbc41\"], [0.9, \"#4d9221\"], [1, \"#276419\"]], \"sequential\": [[0.0, \"#0d0887\"], [0.1111111111111111, \"#46039f\"], [0.2222222222222222, \"#7201a8\"], [0.3333333333333333, \"#9c179e\"], [0.4444444444444444, \"#bd3786\"], [0.5555555555555556, \"#d8576b\"], [0.6666666666666666, \"#ed7953\"], [0.7777777777777778, \"#fb9f3a\"], [0.8888888888888888, \"#fdca26\"], [1.0, \"#f0f921\"]], \"sequentialminus\": [[0.0, \"#0d0887\"], [0.1111111111111111, \"#46039f\"], [0.2222222222222222, \"#7201a8\"], [0.3333333333333333, \"#9c179e\"], [0.4444444444444444, \"#bd3786\"], [0.5555555555555556, \"#d8576b\"], [0.6666666666666666, \"#ed7953\"], [0.7777777777777778, \"#fb9f3a\"], [0.8888888888888888, \"#fdca26\"], [1.0, \"#f0f921\"]]}, \"colorway\": [\"#636efa\", \"#EF553B\", \"#00cc96\", \"#ab63fa\", \"#FFA15A\", \"#19d3f3\", \"#FF6692\", \"#B6E880\", \"#FF97FF\", \"#FECB52\"], \"font\": {\"color\": \"#2a3f5f\"}, \"geo\": {\"bgcolor\": \"white\", \"lakecolor\": \"white\", \"landcolor\": \"#E5ECF6\", \"showlakes\": true, \"showland\": true, \"subunitcolor\": \"white\"}, \"hoverlabel\": {\"align\": \"left\"}, \"hovermode\": \"closest\", \"mapbox\": {\"style\": \"light\"}, \"paper_bgcolor\": \"white\", \"plot_bgcolor\": \"#E5ECF6\", \"polar\": {\"angularaxis\": {\"gridcolor\": \"white\", \"linecolor\": \"white\", \"ticks\": \"\"}, \"bgcolor\": \"#E5ECF6\", \"radialaxis\": {\"gridcolor\": \"white\", \"linecolor\": \"white\", \"ticks\": \"\"}}, \"scene\": {\"xaxis\": {\"backgroundcolor\": \"#E5ECF6\", \"gridcolor\": \"white\", \"gridwidth\": 2, \"linecolor\": \"white\", \"showbackground\": true, \"ticks\": \"\", \"zerolinecolor\": \"white\"}, \"yaxis\": {\"backgroundcolor\": \"#E5ECF6\", \"gridcolor\": \"white\", \"gridwidth\": 2, \"linecolor\": \"white\", \"showbackground\": true, \"ticks\": \"\", \"zerolinecolor\": \"white\"}, \"zaxis\": {\"backgroundcolor\": \"#E5ECF6\", \"gridcolor\": \"white\", \"gridwidth\": 2, \"linecolor\": \"white\", \"showbackground\": true, \"ticks\": \"\", \"zerolinecolor\": \"white\"}}, \"shapedefaults\": {\"line\": {\"color\": \"#2a3f5f\"}}, \"ternary\": {\"aaxis\": {\"gridcolor\": \"white\", \"linecolor\": \"white\", \"ticks\": \"\"}, \"baxis\": {\"gridcolor\": \"white\", \"linecolor\": \"white\", \"ticks\": \"\"}, \"bgcolor\": \"#E5ECF6\", \"caxis\": {\"gridcolor\": \"white\", \"linecolor\": \"white\", \"ticks\": \"\"}}, \"title\": {\"x\": 0.05}, \"xaxis\": {\"automargin\": true, \"gridcolor\": \"white\", \"linecolor\": \"white\", \"ticks\": \"\", \"title\": {\"standoff\": 15}, \"zerolinecolor\": \"white\", \"zerolinewidth\": 2}, \"yaxis\": {\"automargin\": true, \"gridcolor\": \"white\", \"linecolor\": \"white\", \"ticks\": \"\", \"title\": {\"standoff\": 15}, \"zerolinecolor\": \"white\", \"zerolinewidth\": 2}}}, \"title\": {\"text\": \"COVID-19 active cases in Ontario\"}, \"xaxis\": {\"title\": {\"text\": \"Date\"}}, \"yaxis\": {\"title\": {\"text\": \"Active cases\"}}},                        {\"responsive\": true}                    ).then(function(){\n",
       "                            \n",
       "var gd = document.getElementById('eaa476f7-7aac-46a1-91ac-f8d4211d1a60');\n",
       "var x = new MutationObserver(function (mutations, observer) {{\n",
       "        var display = window.getComputedStyle(gd).display;\n",
       "        if (!display || display === 'none') {{\n",
       "            console.log([gd, 'removed!']);\n",
       "            Plotly.purge(gd);\n",
       "            observer.disconnect();\n",
       "        }}\n",
       "}});\n",
       "\n",
       "// Listen for the removal of the full notebook cells\n",
       "var notebookContainer = gd.closest('#notebook-container');\n",
       "if (notebookContainer) {{\n",
       "    x.observe(notebookContainer, {childList: true});\n",
       "}}\n",
       "\n",
       "// Listen for the clearing of the current output cell\n",
       "var outputEl = gd.closest('.output');\n",
       "if (outputEl) {{\n",
       "    x.observe(outputEl, {childList: true});\n",
       "}}\n",
       "\n",
       "                        })                };                });            </script>        </div>"
      ]
     },
     "metadata": {},
     "output_type": "display_data"
    }
   ],
   "source": [
    "plot_predictions(\n",
    "    forecasts,\n",
    "    y=\"cumulative_deaths\",\n",
    "    y_label=\"Cumulative deaths\",\n",
    "    title=\"COVID-19 mortality in Ontario\",\n",
    "    height=600,\n",
    ")\n",
    "\n",
    "plot_predictions(\n",
    "    forecasts,\n",
    "    y=\"active_cases\",\n",
    "    y_label=\"Active cases\",\n",
    "    title=\"COVID-19 active cases in Ontario\",\n",
    "    height=600,\n",
    ")"
   ]
  },
  {
   "cell_type": "code",
   "execution_count": null,
   "metadata": {},
   "outputs": [],
   "source": []
  }
 ],
 "metadata": {
  "kernelspec": {
   "display_name": "Python [conda env:covid-forecasting]",
   "language": "python",
   "name": "conda-env-covid-forecasting-py"
  },
  "language_info": {
   "codemirror_mode": {
    "name": "ipython",
    "version": 3
   },
   "file_extension": ".py",
   "mimetype": "text/x-python",
   "name": "python",
   "nbconvert_exporter": "python",
   "pygments_lexer": "ipython3",
   "version": "3.8.5"
  }
 },
 "nbformat": 4,
 "nbformat_minor": 4
}
